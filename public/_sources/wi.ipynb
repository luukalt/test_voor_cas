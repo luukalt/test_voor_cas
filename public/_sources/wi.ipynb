{
 "cells": [
  {
   "cell_type": "markdown",
   "metadata": {},
   "source": [
    "# Voorbeeld: Waaiers parabolen\n",
    "Bij het spuiten met een tuinslang, bij fonteinen en bij het blussen van een\n",
    "brand door de brandweer zie je waterstralen. Hoe hoog en hoe ver die\n",
    "komen hangt af van de druk van het water en onder welke hoek het water\n",
    "de spuitmond verlaat. <br>\n",
    "\n",
    "Als we aannemen dat de waterstraal de paraboolvorm\n",
    "heeft, dan kunnen we bijvoorbeeld berekenen waar de toppen van de\n",
    "parabolen liggen als de hoek hetzelfde blijft en we de druk variëren.\n",
    "Bij de volgende vragen ga je onderzoeken waar de\n",
    "toppen van de bergparabolen liggen die onder dezelfde\n",
    "hoek door de oorsprong gaan. In de figuur hiernaast zie\n",
    "je enkele van deze parabolen. <br>\n",
    "    \n",
    "De algemene formule van de parabolen die onder een\n",
    "hoek van ongeveer 76° door de oorsprong gaan is $y = ax^2 + 4x$.\n",
    "\n",
    "* Neem $a = −1$. Teken de parabool en geef de coördinaten van de top.\n",
    "* Doe hetzelfde voor $a = −2$ en $a = \\frac{1}{2}$.\n",
    "* Op welke grafiek liggen de toppen van de parabolen die je nu hebt getekend? Controleer of dit ook geldt voor een andere parabool vande vorm $y = ax^2 + 4x$.\n",
    "\n",
    "De parabolen van de vorm $y = ax^2 + 6x$ gaan allemaal onder een hoek\n",
    "van ongeveer 81° door de oorsprong.\n",
    "\n",
    "* Onderzoek op welke grafiek de toppen van deze parabolen liggen\n",
    "* Op welke grafiek liggen de toppen van de parabolen van de vorm $y = ax^2 − 3x$ denk je? Controleer je antwoord door voor a enkele waarden te nemen.\n",
    "\n",
    "Elke parabool van de vorm $y = −x^2 + bx$ gaat door de oorsprong, waarbij de hoek waaronder de parabool door de oorsprong gaat afhangt van b.\n",
    "* Onderzoek of je ook iets kunt zeggen van de toppen van de parabolen $y = −x^2 + bx$ en stel zo mogelijk de formule op van de grafiek waarop de toppen liggen.\n",
    "* Doe hetzelfde voor de toppen van de parabolen $y = -\\frac{1}{2} x^2 + bx$.\n"
   ]
  },
  {
   "cell_type": "code",
   "execution_count": 29,
   "metadata": {
    "tags": [
     "remove-input"
    ]
   },
   "outputs": [
    {
     "data": {
      "application/javascript": "(function(root) {\n  function now() {\n    return new Date();\n  }\n\n  const force = true;\n\n  if (typeof root._bokeh_onload_callbacks === \"undefined\" || force === true) {\n    root._bokeh_onload_callbacks = [];\n    root._bokeh_is_loading = undefined;\n  }\n\nconst JS_MIME_TYPE = 'application/javascript';\n  const HTML_MIME_TYPE = 'text/html';\n  const EXEC_MIME_TYPE = 'application/vnd.bokehjs_exec.v0+json';\n  const CLASS_NAME = 'output_bokeh rendered_html';\n\n  /**\n   * Render data to the DOM node\n   */\n  function render(props, node) {\n    const script = document.createElement(\"script\");\n    node.appendChild(script);\n  }\n\n  /**\n   * Handle when an output is cleared or removed\n   */\n  function handleClearOutput(event, handle) {\n    const cell = handle.cell;\n\n    const id = cell.output_area._bokeh_element_id;\n    const server_id = cell.output_area._bokeh_server_id;\n    // Clean up Bokeh references\n    if (id != null && id in Bokeh.index) {\n      Bokeh.index[id].model.document.clear();\n      delete Bokeh.index[id];\n    }\n\n    if (server_id !== undefined) {\n      // Clean up Bokeh references\n      const cmd_clean = \"from bokeh.io.state import curstate; print(curstate().uuid_to_server['\" + server_id + \"'].get_sessions()[0].document.roots[0]._id)\";\n      cell.notebook.kernel.execute(cmd_clean, {\n        iopub: {\n          output: function(msg) {\n            const id = msg.content.text.trim();\n            if (id in Bokeh.index) {\n              Bokeh.index[id].model.document.clear();\n              delete Bokeh.index[id];\n            }\n          }\n        }\n      });\n      // Destroy server and session\n      const cmd_destroy = \"import bokeh.io.notebook as ion; ion.destroy_server('\" + server_id + \"')\";\n      cell.notebook.kernel.execute(cmd_destroy);\n    }\n  }\n\n  /**\n   * Handle when a new output is added\n   */\n  function handleAddOutput(event, handle) {\n    const output_area = handle.output_area;\n    const output = handle.output;\n\n    // limit handleAddOutput to display_data with EXEC_MIME_TYPE content only\n    if ((output.output_type != \"display_data\") || (!Object.prototype.hasOwnProperty.call(output.data, EXEC_MIME_TYPE))) {\n      return\n    }\n\n    const toinsert = output_area.element.find(\".\" + CLASS_NAME.split(' ')[0]);\n\n    if (output.metadata[EXEC_MIME_TYPE][\"id\"] !== undefined) {\n      toinsert[toinsert.length - 1].firstChild.textContent = output.data[JS_MIME_TYPE];\n      // store reference to embed id on output_area\n      output_area._bokeh_element_id = output.metadata[EXEC_MIME_TYPE][\"id\"];\n    }\n    if (output.metadata[EXEC_MIME_TYPE][\"server_id\"] !== undefined) {\n      const bk_div = document.createElement(\"div\");\n      bk_div.innerHTML = output.data[HTML_MIME_TYPE];\n      const script_attrs = bk_div.children[0].attributes;\n      for (let i = 0; i < script_attrs.length; i++) {\n        toinsert[toinsert.length - 1].firstChild.setAttribute(script_attrs[i].name, script_attrs[i].value);\n        toinsert[toinsert.length - 1].firstChild.textContent = bk_div.children[0].textContent\n      }\n      // store reference to server id on output_area\n      output_area._bokeh_server_id = output.metadata[EXEC_MIME_TYPE][\"server_id\"];\n    }\n  }\n\n  function register_renderer(events, OutputArea) {\n\n    function append_mime(data, metadata, element) {\n      // create a DOM node to render to\n      const toinsert = this.create_output_subarea(\n        metadata,\n        CLASS_NAME,\n        EXEC_MIME_TYPE\n      );\n      this.keyboard_manager.register_events(toinsert);\n      // Render to node\n      const props = {data: data, metadata: metadata[EXEC_MIME_TYPE]};\n      render(props, toinsert[toinsert.length - 1]);\n      element.append(toinsert);\n      return toinsert\n    }\n\n    /* Handle when an output is cleared or removed */\n    events.on('clear_output.CodeCell', handleClearOutput);\n    events.on('delete.Cell', handleClearOutput);\n\n    /* Handle when a new output is added */\n    events.on('output_added.OutputArea', handleAddOutput);\n\n    /**\n     * Register the mime type and append_mime function with output_area\n     */\n    OutputArea.prototype.register_mime_type(EXEC_MIME_TYPE, append_mime, {\n      /* Is output safe? */\n      safe: true,\n      /* Index of renderer in `output_area.display_order` */\n      index: 0\n    });\n  }\n\n  // register the mime type if in Jupyter Notebook environment and previously unregistered\n  if (root.Jupyter !== undefined) {\n    const events = require('base/js/events');\n    const OutputArea = require('notebook/js/outputarea').OutputArea;\n\n    if (OutputArea.prototype.mime_types().indexOf(EXEC_MIME_TYPE) == -1) {\n      register_renderer(events, OutputArea);\n    }\n  }\n  if (typeof (root._bokeh_timeout) === \"undefined\" || force === true) {\n    root._bokeh_timeout = Date.now() + 5000;\n    root._bokeh_failed_load = false;\n  }\n\n  const NB_LOAD_WARNING = {'data': {'text/html':\n     \"<div style='background-color: #fdd'>\\n\"+\n     \"<p>\\n\"+\n     \"BokehJS does not appear to have successfully loaded. If loading BokehJS from CDN, this \\n\"+\n     \"may be due to a slow or bad network connection. Possible fixes:\\n\"+\n     \"</p>\\n\"+\n     \"<ul>\\n\"+\n     \"<li>re-rerun `output_notebook()` to attempt to load from CDN again, or</li>\\n\"+\n     \"<li>use INLINE resources instead, as so:</li>\\n\"+\n     \"</ul>\\n\"+\n     \"<code>\\n\"+\n     \"from bokeh.resources import INLINE\\n\"+\n     \"output_notebook(resources=INLINE)\\n\"+\n     \"</code>\\n\"+\n     \"</div>\"}};\n\n  function display_loaded() {\n    const el = document.getElementById(null);\n    if (el != null) {\n      el.textContent = \"BokehJS is loading...\";\n    }\n    if (root.Bokeh !== undefined) {\n      if (el != null) {\n        el.textContent = \"BokehJS \" + root.Bokeh.version + \" successfully loaded.\";\n      }\n    } else if (Date.now() < root._bokeh_timeout) {\n      setTimeout(display_loaded, 100)\n    }\n  }\n\n  function run_callbacks() {\n    try {\n      root._bokeh_onload_callbacks.forEach(function(callback) {\n        if (callback != null)\n          callback();\n      });\n    } finally {\n      delete root._bokeh_onload_callbacks\n    }\n    console.debug(\"Bokeh: all callbacks have finished\");\n  }\n\n  function load_libs(css_urls, js_urls, callback) {\n    if (css_urls == null) css_urls = [];\n    if (js_urls == null) js_urls = [];\n\n    root._bokeh_onload_callbacks.push(callback);\n    if (root._bokeh_is_loading > 0) {\n      console.debug(\"Bokeh: BokehJS is being loaded, scheduling callback at\", now());\n      return null;\n    }\n    if (js_urls == null || js_urls.length === 0) {\n      run_callbacks();\n      return null;\n    }\n    console.debug(\"Bokeh: BokehJS not loaded, scheduling load and callback at\", now());\n    root._bokeh_is_loading = css_urls.length + js_urls.length;\n\n    function on_load() {\n      root._bokeh_is_loading--;\n      if (root._bokeh_is_loading === 0) {\n        console.debug(\"Bokeh: all BokehJS libraries/stylesheets loaded\");\n        run_callbacks()\n      }\n    }\n\n    function on_error(url) {\n      console.error(\"failed to load \" + url);\n    }\n\n    for (let i = 0; i < css_urls.length; i++) {\n      const url = css_urls[i];\n      const element = document.createElement(\"link\");\n      element.onload = on_load;\n      element.onerror = on_error.bind(null, url);\n      element.rel = \"stylesheet\";\n      element.type = \"text/css\";\n      element.href = url;\n      console.debug(\"Bokeh: injecting link tag for BokehJS stylesheet: \", url);\n      document.body.appendChild(element);\n    }\n\n    for (let i = 0; i < js_urls.length; i++) {\n      const url = js_urls[i];\n      const element = document.createElement('script');\n      element.onload = on_load;\n      element.onerror = on_error.bind(null, url);\n      element.async = false;\n      element.src = url;\n      console.debug(\"Bokeh: injecting script tag for BokehJS library: \", url);\n      document.head.appendChild(element);\n    }\n  };\n\n  function inject_raw_css(css) {\n    const element = document.createElement(\"style\");\n    element.appendChild(document.createTextNode(css));\n    document.body.appendChild(element);\n  }\n\n  const js_urls = [\"https://cdn.bokeh.org/bokeh/release/bokeh-2.4.3.min.js\", \"https://cdn.bokeh.org/bokeh/release/bokeh-gl-2.4.3.min.js\", \"https://cdn.bokeh.org/bokeh/release/bokeh-widgets-2.4.3.min.js\", \"https://cdn.bokeh.org/bokeh/release/bokeh-tables-2.4.3.min.js\", \"https://cdn.bokeh.org/bokeh/release/bokeh-mathjax-2.4.3.min.js\"];\n  const css_urls = [];\n\n  const inline_js = [    function(Bokeh) {\n      Bokeh.set_log_level(\"info\");\n    },\nfunction(Bokeh) {\n    }\n  ];\n\n  function run_inline_js() {\n    if (root.Bokeh !== undefined || force === true) {\n          for (let i = 0; i < inline_js.length; i++) {\n      inline_js[i].call(root, root.Bokeh);\n    }\n} else if (Date.now() < root._bokeh_timeout) {\n      setTimeout(run_inline_js, 100);\n    } else if (!root._bokeh_failed_load) {\n      console.log(\"Bokeh: BokehJS failed to load within specified timeout.\");\n      root._bokeh_failed_load = true;\n    } else if (force !== true) {\n      const cell = $(document.getElementById(null)).parents('.cell').data().cell;\n      cell.output_area.append_execute_result(NB_LOAD_WARNING)\n    }\n  }\n\n  if (root._bokeh_is_loading === 0) {\n    console.debug(\"Bokeh: BokehJS loaded, going straight to plotting\");\n    run_inline_js();\n  } else {\n    load_libs(css_urls, js_urls, function() {\n      console.debug(\"Bokeh: BokehJS plotting callback run at\", now());\n      run_inline_js();\n    });\n  }\n}(window));",
      "application/vnd.bokehjs_load.v0+json": ""
     },
     "metadata": {},
     "output_type": "display_data"
    },
    {
     "data": {
      "text/html": [
       "\n",
       "  <div class=\"bk-root\" id=\"8d2c1b9e-bd0b-4c21-9415-5f36bde3effc\" data-root-id=\"8408\"></div>\n"
      ]
     },
     "metadata": {},
     "output_type": "display_data"
    },
    {
     "data": {
      "application/javascript": "(function(root) {\n  function embed_document(root) {\n  const docs_json = {\"eb660c4c-d0c4-4ff3-b1e7-75ee9d92dfda\":{\"defs\":[],\"roots\":{\"references\":[{\"attributes\":{\"children\":[{\"id\":\"8361\"},{\"id\":\"8407\"}]},\"id\":\"8408\",\"type\":\"Row\"},{\"attributes\":{\"line_alpha\":0.6,\"line_color\":\"red\",\"line_width\":3,\"x\":{\"field\":\"x\"},\"y\":{\"field\":\"y2\"}},\"id\":\"8399\",\"type\":\"Line\"},{\"attributes\":{\"coordinates\":null,\"group\":null},\"id\":\"8718\",\"type\":\"Title\"},{\"attributes\":{},\"id\":\"8722\",\"type\":\"AllLabels\"},{\"attributes\":{},\"id\":\"8378\",\"type\":\"PanTool\"},{\"attributes\":{},\"id\":\"8382\",\"type\":\"ResetTool\"},{\"attributes\":{},\"id\":\"8381\",\"type\":\"SaveTool\"},{\"attributes\":{},\"id\":\"8371\",\"type\":\"BasicTicker\"},{\"attributes\":{\"axis_label\":\"x\",\"axis_label_text_color\":\"black\",\"axis_label_text_font_size\":\"32px\",\"coordinates\":null,\"formatter\":{\"id\":\"8724\"},\"group\":null,\"major_label_policy\":{\"id\":\"8725\"},\"major_label_text_font_size\":\"16px\",\"major_label_text_font_style\":\"bold\",\"major_tick_line_width\":3,\"minor_tick_line_width\":0,\"ticker\":{\"id\":\"8371\"}},\"id\":\"8370\",\"type\":\"LinearAxis\"},{\"attributes\":{},\"id\":\"8726\",\"type\":\"UnionRenderers\"},{\"attributes\":{\"end\":2,\"js_property_callbacks\":{\"change:value\":[{\"id\":\"8406\"}]},\"start\":-4,\"step\":0.5,\"title\":\"a\",\"value\":-1},\"id\":\"8404\",\"type\":\"Slider\"},{\"attributes\":{\"axis\":{\"id\":\"8370\"},\"coordinates\":null,\"group\":null,\"ticker\":null,\"visible\":false},\"id\":\"8373\",\"type\":\"Grid\"},{\"attributes\":{},\"id\":\"8727\",\"type\":\"Selection\"},{\"attributes\":{\"axis_label\":\"y\",\"axis_label_text_color\":\"black\",\"axis_label_text_font_size\":\"32px\",\"coordinates\":null,\"formatter\":{\"id\":\"8721\"},\"group\":null,\"major_label_policy\":{\"id\":\"8722\"},\"major_label_text_font_size\":\"16px\",\"major_tick_line_width\":3,\"minor_tick_line_width\":0,\"ticker\":{\"id\":\"8375\"}},\"id\":\"8374\",\"type\":\"LinearAxis\"},{\"attributes\":{\"source\":{\"id\":\"8360\"}},\"id\":\"8397\",\"type\":\"CDSView\"},{\"attributes\":{\"line_alpha\":0.2,\"line_color\":\"red\",\"line_width\":3,\"x\":{\"field\":\"x\"},\"y\":{\"field\":\"y2\"}},\"id\":\"8401\",\"type\":\"Line\"},{\"attributes\":{\"coordinates\":null,\"data_source\":{\"id\":\"8360\"},\"glyph\":{\"id\":\"8399\"},\"group\":null,\"hover_glyph\":null,\"muted_glyph\":{\"id\":\"8401\"},\"nonselection_glyph\":{\"id\":\"8400\"},\"view\":{\"id\":\"8403\"}},\"id\":\"8402\",\"type\":\"GlyphRenderer\"},{\"attributes\":{},\"id\":\"8725\",\"type\":\"AllLabels\"},{\"attributes\":{\"end\":10,\"js_property_callbacks\":{\"change:value\":[{\"id\":\"8406\"}]},\"start\":-3,\"title\":\"b\",\"value\":2},\"id\":\"8405\",\"type\":\"Slider\"},{\"attributes\":{\"bottom_units\":\"screen\",\"coordinates\":null,\"fill_alpha\":0.5,\"fill_color\":\"lightgrey\",\"group\":null,\"left_units\":\"screen\",\"level\":\"overlay\",\"line_alpha\":1.0,\"line_color\":\"black\",\"line_dash\":[4,4],\"line_width\":2,\"right_units\":\"screen\",\"syncable\":false,\"top_units\":\"screen\"},\"id\":\"8384\",\"type\":\"BoxAnnotation\"},{\"attributes\":{\"coordinates\":null,\"data_source\":{\"id\":\"8360\"},\"glyph\":{\"id\":\"8393\"},\"group\":null,\"hover_glyph\":null,\"muted_glyph\":{\"id\":\"8395\"},\"nonselection_glyph\":{\"id\":\"8394\"},\"view\":{\"id\":\"8397\"}},\"id\":\"8396\",\"type\":\"GlyphRenderer\"},{\"attributes\":{},\"id\":\"8375\",\"type\":\"BasicTicker\"},{\"attributes\":{\"args\":{\"a\":{\"id\":\"8404\"},\"b\":{\"id\":\"8405\"},\"source\":{\"id\":\"8360\"}},\"code\":\"\\n    const data = source.data;\\n    const A = a.value;\\n    const B = b.value;\\n    const x = data['x'];\\n    const y1 = data['y1'];\\n    const y2 = data['y2'];\\n\\n    for (var i = 0; i < x.length; i++) {\\n        y1[i] = A*x[i]**2 + B*x[i];\\n        y2[i] = (-A)*x[i]**2;\\n    }\\n    source.change.emit();\\n\"},\"id\":\"8406\",\"type\":\"CustomJS\"},{\"attributes\":{\"line_alpha\":0.1,\"line_color\":\"red\",\"line_width\":3,\"x\":{\"field\":\"x\"},\"y\":{\"field\":\"y2\"}},\"id\":\"8400\",\"type\":\"Line\"},{\"attributes\":{},\"id\":\"8366\",\"type\":\"LinearScale\"},{\"attributes\":{},\"id\":\"8383\",\"type\":\"HelpTool\"},{\"attributes\":{\"line_alpha\":0.1,\"line_color\":\"blue\",\"line_width\":3,\"x\":{\"field\":\"x\"},\"y\":{\"field\":\"y1\"}},\"id\":\"8394\",\"type\":\"Line\"},{\"attributes\":{},\"id\":\"8368\",\"type\":\"LinearScale\"},{\"attributes\":{\"end\":10,\"start\":0},\"id\":\"8362\",\"type\":\"DataRange1d\"},{\"attributes\":{\"line_alpha\":0.6,\"line_color\":\"blue\",\"line_width\":3,\"x\":{\"field\":\"x\"},\"y\":{\"field\":\"y1\"}},\"id\":\"8393\",\"type\":\"Line\"},{\"attributes\":{},\"id\":\"8721\",\"type\":\"BasicTickFormatter\"},{\"attributes\":{\"data\":{\"x\":{\"__ndarray__\":\"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\",\"dtype\":\"float64\",\"order\":\"little\",\"shape\":[500]},\"y1\":{\"__ndarray__\":\"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\",\"dtype\":\"float64\",\"order\":\"little\",\"shape\":[500]},\"y2\":{\"__ndarray__\":\"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\",\"dtype\":\"float64\",\"order\":\"little\",\"shape\":[500]}},\"selected\":{\"id\":\"8727\"},\"selection_policy\":{\"id\":\"8726\"}},\"id\":\"8360\",\"type\":\"ColumnDataSource\"},{\"attributes\":{},\"id\":\"8379\",\"type\":\"WheelZoomTool\"},{\"attributes\":{\"line_alpha\":0.2,\"line_color\":\"blue\",\"line_width\":3,\"x\":{\"field\":\"x\"},\"y\":{\"field\":\"y1\"}},\"id\":\"8395\",\"type\":\"Line\"},{\"attributes\":{\"aspect_scale\":0.5,\"below\":[{\"id\":\"8370\"}],\"center\":[{\"id\":\"8373\"},{\"id\":\"8377\"}],\"left\":[{\"id\":\"8374\"}],\"match_aspect\":true,\"outline_line_color\":\"black\",\"outline_line_width\":7,\"renderers\":[{\"id\":\"8396\"},{\"id\":\"8402\"}],\"title\":{\"id\":\"8718\"},\"toolbar\":{\"id\":\"8385\"},\"toolbar_location\":\"left\",\"x_range\":{\"id\":\"8362\"},\"x_scale\":{\"id\":\"8366\"},\"y_range\":{\"id\":\"8364\"},\"y_scale\":{\"id\":\"8368\"}},\"id\":\"8361\",\"subtype\":\"Figure\",\"type\":\"Plot\"},{\"attributes\":{\"children\":[{\"id\":\"8404\"},{\"id\":\"8405\"}]},\"id\":\"8407\",\"type\":\"Column\"},{\"attributes\":{},\"id\":\"8724\",\"type\":\"BasicTickFormatter\"},{\"attributes\":{\"end\":10,\"start\":0},\"id\":\"8364\",\"type\":\"DataRange1d\"},{\"attributes\":{\"logo\":null,\"tools\":[{\"id\":\"8378\"},{\"id\":\"8379\"},{\"id\":\"8380\"},{\"id\":\"8381\"},{\"id\":\"8382\"},{\"id\":\"8383\"}]},\"id\":\"8385\",\"type\":\"Toolbar\"},{\"attributes\":{\"source\":{\"id\":\"8360\"}},\"id\":\"8403\",\"type\":\"CDSView\"},{\"attributes\":{\"overlay\":{\"id\":\"8384\"}},\"id\":\"8380\",\"type\":\"BoxZoomTool\"},{\"attributes\":{\"axis\":{\"id\":\"8374\"},\"coordinates\":null,\"dimension\":1,\"group\":null,\"ticker\":null,\"visible\":false},\"id\":\"8377\",\"type\":\"Grid\"}],\"root_ids\":[\"8408\"]},\"title\":\"Bokeh Application\",\"version\":\"2.4.3\"}};\n  const render_items = [{\"docid\":\"eb660c4c-d0c4-4ff3-b1e7-75ee9d92dfda\",\"root_ids\":[\"8408\"],\"roots\":{\"8408\":\"8d2c1b9e-bd0b-4c21-9415-5f36bde3effc\"}}];\n  root.Bokeh.embed.embed_items_notebook(docs_json, render_items);\n  }\n  if (root.Bokeh !== undefined) {\n    embed_document(root);\n  } else {\n    let attempts = 0;\n    const timer = setInterval(function(root) {\n      if (root.Bokeh !== undefined) {\n        clearInterval(timer);\n        embed_document(root);\n      } else {\n        attempts++;\n        if (attempts > 100) {\n          clearInterval(timer);\n          console.log(\"Bokeh: ERROR: Unable to run BokehJS code because BokehJS library is missing\");\n        }\n      }\n    }, 10, root)\n  }\n})(window);",
      "application/vnd.bokehjs_exec.v0+json": ""
     },
     "metadata": {
      "application/vnd.bokehjs_exec.v0+json": {
       "id": "8408"
      }
     },
     "output_type": "display_data"
    }
   ],
   "source": [
    "import numpy as np\n",
    "\n",
    "from bokeh.layouts import column, row\n",
    "from bokeh.models import CustomJS, Slider\n",
    "from bokeh.plotting import ColumnDataSource, figure, output_notebook, output_file, show\n",
    "\n",
    "x = np.linspace(-10, 10, 500)\n",
    "y1 = -x**2 + 4*x\n",
    "y2 = -x**2\n",
    "dimension1 = 400 #plot_width=dimension1, plot_height=dimension1, \n",
    "source = ColumnDataSource(data=dict(x=x, y1=y1, y2=y2))\n",
    "\n",
    "p = figure(toolbar_location=\"left\", match_aspect=True, aspect_scale=0.5)\n",
    "p.line('x', 'y1', source=source, line_width=3, line_alpha=0.6, line_color=\"blue\", line_dash=\"solid\")\n",
    "p.line('x', 'y2', source=source, line_width=3, line_alpha=0.6, line_color=\"red\", line_dash=\"solid\")\n",
    "\n",
    "p.outline_line_width = 7\n",
    "p.outline_line_alpha = 1\n",
    "p.outline_line_color = \"black\"\n",
    "\n",
    "a_slider = Slider(start=-4, end=2, value=-1, step=.5, title=\"a\")\n",
    "b_slider = Slider(start=-3, end=10, value=2, step=1, title=\"b\")\n",
    "\n",
    "callback = CustomJS(args=dict(source=source, a=a_slider, b=b_slider),\n",
    "                    code=\"\"\"\n",
    "    const data = source.data;\n",
    "    const A = a.value;\n",
    "    const B = b.value;\n",
    "    const x = data['x'];\n",
    "    const y1 = data['y1'];\n",
    "    const y2 = data['y2'];\n",
    "\n",
    "    for (var i = 0; i < x.length; i++) {\n",
    "        y1[i] = A*x[i]**2 + B*x[i];\n",
    "        y2[i] = -A*x[i]**2;\n",
    "    }\n",
    "    source.change.emit();\n",
    "\"\"\")\n",
    "\n",
    "a_slider.js_on_change('value', callback)\n",
    "b_slider.js_on_change('value', callback)\n",
    "\n",
    "layout = row(\n",
    "    p,\n",
    "    column(a_slider, b_slider),\n",
    ")\n",
    "\n",
    "p.xaxis.axis_label = \"x\"\n",
    "p.xaxis.axis_label_text_color = \"black\"\n",
    "p.xaxis.axis_label_text_font_size = \"32px\"\n",
    "\n",
    "p.yaxis.axis_label = \"y\"\n",
    "p.yaxis.axis_label_text_color = \"black\"\n",
    "p.yaxis.axis_label_text_font_size = \"32px\"\n",
    "# p.yaxis.major_label_orientation  = \"vertical\"\n",
    "\n",
    "# p.yaxis.axis_label = r\"\\[y\\]\"\n",
    "# p.xaxis.axis_label = r\"\\[x\\]\"\n",
    "\n",
    "p.xgrid.visible = False\n",
    "p.ygrid.visible = False\n",
    "\n",
    "p.xaxis.major_tick_line_color = \"black\"\n",
    "p.xaxis.major_tick_line_width = 3\n",
    "p.xaxis.minor_tick_line_width = 0\n",
    "p.xaxis.major_label_text_font_size = \"16px\"\n",
    "p.xaxis.major_label_text_font_style = \"bold\"\n",
    "\n",
    "\n",
    "p.yaxis.major_tick_line_color = \"black\"\n",
    "p.yaxis.major_tick_line_width = 3\n",
    "p.yaxis.minor_tick_line_width = 0\n",
    "p.yaxis.major_label_text_font_size = \"16px\"\n",
    "p.xaxis.major_label_text_font_style = \"bold\"\n",
    "\n",
    "p.toolbar.logo = None\n",
    "\n",
    "p.x_range.start = 0\n",
    "p.x_range.end = 10\n",
    "\n",
    "p.y_range.start = 0\n",
    "p.y_range.end = 10\n",
    "output_notebook(hide_banner=True)\n",
    "\n",
    "show(layout)"
   ]
  },
  {
   "cell_type": "markdown",
   "metadata": {},
   "source": [
    "In de volgende video wordt uitgelegd wat een parabool precies is. "
   ]
  },
  {
   "cell_type": "code",
   "execution_count": 1,
   "metadata": {
    "tags": [
     "remove-input"
    ]
   },
   "outputs": [
    {
     "data": {
      "image/jpeg": "[encoded data removed]",
      "text/html": [
       "\n",
       "        <iframe\n",
       "            width=\"720\"\n",
       "            height=\"480\"\n",
       "            src=\"https://www.youtube.com/embed/-HpjPw3ZGoI\"\n",
       "            frameborder=\"0\"\n",
       "            allowfullscreen\n",
       "            \n",
       "        ></iframe>\n",
       "        "
      ],
      "text/plain": [
       "<IPython.lib.display.YouTubeVideo at 0x14de0366790>"
      ]
     },
     "execution_count": 1,
     "metadata": {},
     "output_type": "execute_result"
    }
   ],
   "source": [
    "from IPython.display import YouTubeVideo\n",
    "YouTubeVideo('-HpjPw3ZGoI', width=720, height=480) "
   ]
  },
  {
   "cell_type": "code",
   "execution_count": 2,
   "metadata": {
    "tags": [
     "remove-input",
     "test"
    ]
   },
   "outputs": [
    {
     "data": {
      "application/vnd.plotly.v1+json": {
       "config": {
        "plotlyServerURL": "https://plot.ly"
       },
       "data": [
        {
         "hovertemplate": "optie=a<br>Tijd=%{x}<br>geld=%{y}<extra></extra>",
         "legendgroup": "a",
         "line": {
          "color": "#1F77B4",
          "dash": "solid"
         },
         "marker": {
          "symbol": "circle"
         },
         "mode": "lines",
         "name": "a",
         "orientation": "v",
         "showlegend": true,
         "type": "scatter",
         "x": [
          0,
          1,
          2
         ],
         "xaxis": "x",
         "y": [
          1,
          3,
          2
         ],
         "yaxis": "y"
        },
        {
         "hovertemplate": "optie=b<br>Tijd=%{x}<br>geld=%{y}<extra></extra>",
         "legendgroup": "b",
         "line": {
          "color": "#FF7F0E",
          "dash": "solid"
         },
         "marker": {
          "symbol": "circle"
         },
         "mode": "lines",
         "name": "b",
         "orientation": "v",
         "showlegend": true,
         "type": "scatter",
         "x": [
          0,
          1,
          2
         ],
         "xaxis": "x",
         "y": [
          3,
          2,
          1
         ],
         "yaxis": "y"
        }
       ],
       "layout": {
        "legend": {
         "title": {
          "text": "optie"
         },
         "tracegroupgap": 0
        },
        "template": {
         "data": {
          "bar": [
           {
            "error_x": {
             "color": "rgb(36,36,36)"
            },
            "error_y": {
             "color": "rgb(36,36,36)"
            },
            "marker": {
             "line": {
              "color": "white",
              "width": 0.5
             },
             "pattern": {
              "fillmode": "overlay",
              "size": 10,
              "solidity": 0.2
             }
            },
            "type": "bar"
           }
          ],
          "barpolar": [
           {
            "marker": {
             "line": {
              "color": "white",
              "width": 0.5
             },
             "pattern": {
              "fillmode": "overlay",
              "size": 10,
              "solidity": 0.2
             }
            },
            "type": "barpolar"
           }
          ],
          "carpet": [
           {
            "aaxis": {
             "endlinecolor": "rgb(36,36,36)",
             "gridcolor": "white",
             "linecolor": "white",
             "minorgridcolor": "white",
             "startlinecolor": "rgb(36,36,36)"
            },
            "baxis": {
             "endlinecolor": "rgb(36,36,36)",
             "gridcolor": "white",
             "linecolor": "white",
             "minorgridcolor": "white",
             "startlinecolor": "rgb(36,36,36)"
            },
            "type": "carpet"
           }
          ],
          "choropleth": [
           {
            "colorbar": {
             "outlinewidth": 1,
             "tickcolor": "rgb(36,36,36)",
             "ticks": "outside"
            },
            "type": "choropleth"
           }
          ],
          "contour": [
           {
            "colorbar": {
             "outlinewidth": 1,
             "tickcolor": "rgb(36,36,36)",
             "ticks": "outside"
            },
            "colorscale": [
             [
              0,
              "#440154"
             ],
             [
              0.1111111111111111,
              "#482878"
             ],
             [
              0.2222222222222222,
              "#3e4989"
             ],
             [
              0.3333333333333333,
              "#31688e"
             ],
             [
              0.4444444444444444,
              "#26828e"
             ],
             [
              0.5555555555555556,
              "#1f9e89"
             ],
             [
              0.6666666666666666,
              "#35b779"
             ],
             [
              0.7777777777777778,
              "#6ece58"
             ],
             [
              0.8888888888888888,
              "#b5de2b"
             ],
             [
              1,
              "#fde725"
             ]
            ],
            "type": "contour"
           }
          ],
          "contourcarpet": [
           {
            "colorbar": {
             "outlinewidth": 1,
             "tickcolor": "rgb(36,36,36)",
             "ticks": "outside"
            },
            "type": "contourcarpet"
           }
          ],
          "heatmap": [
           {
            "colorbar": {
             "outlinewidth": 1,
             "tickcolor": "rgb(36,36,36)",
             "ticks": "outside"
            },
            "colorscale": [
             [
              0,
              "#440154"
             ],
             [
              0.1111111111111111,
              "#482878"
             ],
             [
              0.2222222222222222,
              "#3e4989"
             ],
             [
              0.3333333333333333,
              "#31688e"
             ],
             [
              0.4444444444444444,
              "#26828e"
             ],
             [
              0.5555555555555556,
              "#1f9e89"
             ],
             [
              0.6666666666666666,
              "#35b779"
             ],
             [
              0.7777777777777778,
              "#6ece58"
             ],
             [
              0.8888888888888888,
              "#b5de2b"
             ],
             [
              1,
              "#fde725"
             ]
            ],
            "type": "heatmap"
           }
          ],
          "heatmapgl": [
           {
            "colorbar": {
             "outlinewidth": 1,
             "tickcolor": "rgb(36,36,36)",
             "ticks": "outside"
            },
            "colorscale": [
             [
              0,
              "#440154"
             ],
             [
              0.1111111111111111,
              "#482878"
             ],
             [
              0.2222222222222222,
              "#3e4989"
             ],
             [
              0.3333333333333333,
              "#31688e"
             ],
             [
              0.4444444444444444,
              "#26828e"
             ],
             [
              0.5555555555555556,
              "#1f9e89"
             ],
             [
              0.6666666666666666,
              "#35b779"
             ],
             [
              0.7777777777777778,
              "#6ece58"
             ],
             [
              0.8888888888888888,
              "#b5de2b"
             ],
             [
              1,
              "#fde725"
             ]
            ],
            "type": "heatmapgl"
           }
          ],
          "histogram": [
           {
            "marker": {
             "line": {
              "color": "white",
              "width": 0.6
             }
            },
            "type": "histogram"
           }
          ],
          "histogram2d": [
           {
            "colorbar": {
             "outlinewidth": 1,
             "tickcolor": "rgb(36,36,36)",
             "ticks": "outside"
            },
            "colorscale": [
             [
              0,
              "#440154"
             ],
             [
              0.1111111111111111,
              "#482878"
             ],
             [
              0.2222222222222222,
              "#3e4989"
             ],
             [
              0.3333333333333333,
              "#31688e"
             ],
             [
              0.4444444444444444,
              "#26828e"
             ],
             [
              0.5555555555555556,
              "#1f9e89"
             ],
             [
              0.6666666666666666,
              "#35b779"
             ],
             [
              0.7777777777777778,
              "#6ece58"
             ],
             [
              0.8888888888888888,
              "#b5de2b"
             ],
             [
              1,
              "#fde725"
             ]
            ],
            "type": "histogram2d"
           }
          ],
          "histogram2dcontour": [
           {
            "colorbar": {
             "outlinewidth": 1,
             "tickcolor": "rgb(36,36,36)",
             "ticks": "outside"
            },
            "colorscale": [
             [
              0,
              "#440154"
             ],
             [
              0.1111111111111111,
              "#482878"
             ],
             [
              0.2222222222222222,
              "#3e4989"
             ],
             [
              0.3333333333333333,
              "#31688e"
             ],
             [
              0.4444444444444444,
              "#26828e"
             ],
             [
              0.5555555555555556,
              "#1f9e89"
             ],
             [
              0.6666666666666666,
              "#35b779"
             ],
             [
              0.7777777777777778,
              "#6ece58"
             ],
             [
              0.8888888888888888,
              "#b5de2b"
             ],
             [
              1,
              "#fde725"
             ]
            ],
            "type": "histogram2dcontour"
           }
          ],
          "mesh3d": [
           {
            "colorbar": {
             "outlinewidth": 1,
             "tickcolor": "rgb(36,36,36)",
             "ticks": "outside"
            },
            "type": "mesh3d"
           }
          ],
          "parcoords": [
           {
            "line": {
             "colorbar": {
              "outlinewidth": 1,
              "tickcolor": "rgb(36,36,36)",
              "ticks": "outside"
             }
            },
            "type": "parcoords"
           }
          ],
          "pie": [
           {
            "automargin": true,
            "type": "pie"
           }
          ],
          "scatter": [
           {
            "fillpattern": {
             "fillmode": "overlay",
             "size": 10,
             "solidity": 0.2
            },
            "type": "scatter"
           }
          ],
          "scatter3d": [
           {
            "line": {
             "colorbar": {
              "outlinewidth": 1,
              "tickcolor": "rgb(36,36,36)",
              "ticks": "outside"
             }
            },
            "marker": {
             "colorbar": {
              "outlinewidth": 1,
              "tickcolor": "rgb(36,36,36)",
              "ticks": "outside"
             }
            },
            "type": "scatter3d"
           }
          ],
          "scattercarpet": [
           {
            "marker": {
             "colorbar": {
              "outlinewidth": 1,
              "tickcolor": "rgb(36,36,36)",
              "ticks": "outside"
             }
            },
            "type": "scattercarpet"
           }
          ],
          "scattergeo": [
           {
            "marker": {
             "colorbar": {
              "outlinewidth": 1,
              "tickcolor": "rgb(36,36,36)",
              "ticks": "outside"
             }
            },
            "type": "scattergeo"
           }
          ],
          "scattergl": [
           {
            "marker": {
             "colorbar": {
              "outlinewidth": 1,
              "tickcolor": "rgb(36,36,36)",
              "ticks": "outside"
             }
            },
            "type": "scattergl"
           }
          ],
          "scattermapbox": [
           {
            "marker": {
             "colorbar": {
              "outlinewidth": 1,
              "tickcolor": "rgb(36,36,36)",
              "ticks": "outside"
             }
            },
            "type": "scattermapbox"
           }
          ],
          "scatterpolar": [
           {
            "marker": {
             "colorbar": {
              "outlinewidth": 1,
              "tickcolor": "rgb(36,36,36)",
              "ticks": "outside"
             }
            },
            "type": "scatterpolar"
           }
          ],
          "scatterpolargl": [
           {
            "marker": {
             "colorbar": {
              "outlinewidth": 1,
              "tickcolor": "rgb(36,36,36)",
              "ticks": "outside"
             }
            },
            "type": "scatterpolargl"
           }
          ],
          "scatterternary": [
           {
            "marker": {
             "colorbar": {
              "outlinewidth": 1,
              "tickcolor": "rgb(36,36,36)",
              "ticks": "outside"
             }
            },
            "type": "scatterternary"
           }
          ],
          "surface": [
           {
            "colorbar": {
             "outlinewidth": 1,
             "tickcolor": "rgb(36,36,36)",
             "ticks": "outside"
            },
            "colorscale": [
             [
              0,
              "#440154"
             ],
             [
              0.1111111111111111,
              "#482878"
             ],
             [
              0.2222222222222222,
              "#3e4989"
             ],
             [
              0.3333333333333333,
              "#31688e"
             ],
             [
              0.4444444444444444,
              "#26828e"
             ],
             [
              0.5555555555555556,
              "#1f9e89"
             ],
             [
              0.6666666666666666,
              "#35b779"
             ],
             [
              0.7777777777777778,
              "#6ece58"
             ],
             [
              0.8888888888888888,
              "#b5de2b"
             ],
             [
              1,
              "#fde725"
             ]
            ],
            "type": "surface"
           }
          ],
          "table": [
           {
            "cells": {
             "fill": {
              "color": "rgb(237,237,237)"
             },
             "line": {
              "color": "white"
             }
            },
            "header": {
             "fill": {
              "color": "rgb(217,217,217)"
             },
             "line": {
              "color": "white"
             }
            },
            "type": "table"
           }
          ]
         },
         "layout": {
          "annotationdefaults": {
           "arrowhead": 0,
           "arrowwidth": 1
          },
          "autotypenumbers": "strict",
          "coloraxis": {
           "colorbar": {
            "outlinewidth": 1,
            "tickcolor": "rgb(36,36,36)",
            "ticks": "outside"
           }
          },
          "colorscale": {
           "diverging": [
            [
             0,
             "rgb(103,0,31)"
            ],
            [
             0.1,
             "rgb(178,24,43)"
            ],
            [
             0.2,
             "rgb(214,96,77)"
            ],
            [
             0.3,
             "rgb(244,165,130)"
            ],
            [
             0.4,
             "rgb(253,219,199)"
            ],
            [
             0.5,
             "rgb(247,247,247)"
            ],
            [
             0.6,
             "rgb(209,229,240)"
            ],
            [
             0.7,
             "rgb(146,197,222)"
            ],
            [
             0.8,
             "rgb(67,147,195)"
            ],
            [
             0.9,
             "rgb(33,102,172)"
            ],
            [
             1,
             "rgb(5,48,97)"
            ]
           ],
           "sequential": [
            [
             0,
             "#440154"
            ],
            [
             0.1111111111111111,
             "#482878"
            ],
            [
             0.2222222222222222,
             "#3e4989"
            ],
            [
             0.3333333333333333,
             "#31688e"
            ],
            [
             0.4444444444444444,
             "#26828e"
            ],
            [
             0.5555555555555556,
             "#1f9e89"
            ],
            [
             0.6666666666666666,
             "#35b779"
            ],
            [
             0.7777777777777778,
             "#6ece58"
            ],
            [
             0.8888888888888888,
             "#b5de2b"
            ],
            [
             1,
             "#fde725"
            ]
           ],
           "sequentialminus": [
            [
             0,
             "#440154"
            ],
            [
             0.1111111111111111,
             "#482878"
            ],
            [
             0.2222222222222222,
             "#3e4989"
            ],
            [
             0.3333333333333333,
             "#31688e"
            ],
            [
             0.4444444444444444,
             "#26828e"
            ],
            [
             0.5555555555555556,
             "#1f9e89"
            ],
            [
             0.6666666666666666,
             "#35b779"
            ],
            [
             0.7777777777777778,
             "#6ece58"
            ],
            [
             0.8888888888888888,
             "#b5de2b"
            ],
            [
             1,
             "#fde725"
            ]
           ]
          },
          "colorway": [
           "#1F77B4",
           "#FF7F0E",
           "#2CA02C",
           "#D62728",
           "#9467BD",
           "#8C564B",
           "#E377C2",
           "#7F7F7F",
           "#BCBD22",
           "#17BECF"
          ],
          "font": {
           "color": "rgb(36,36,36)"
          },
          "geo": {
           "bgcolor": "white",
           "lakecolor": "white",
           "landcolor": "white",
           "showlakes": true,
           "showland": true,
           "subunitcolor": "white"
          },
          "hoverlabel": {
           "align": "left"
          },
          "hovermode": "closest",
          "mapbox": {
           "style": "light"
          },
          "paper_bgcolor": "white",
          "plot_bgcolor": "white",
          "polar": {
           "angularaxis": {
            "gridcolor": "rgb(232,232,232)",
            "linecolor": "rgb(36,36,36)",
            "showgrid": false,
            "showline": true,
            "ticks": "outside"
           },
           "bgcolor": "white",
           "radialaxis": {
            "gridcolor": "rgb(232,232,232)",
            "linecolor": "rgb(36,36,36)",
            "showgrid": false,
            "showline": true,
            "ticks": "outside"
           }
          },
          "scene": {
           "xaxis": {
            "backgroundcolor": "white",
            "gridcolor": "rgb(232,232,232)",
            "gridwidth": 2,
            "linecolor": "rgb(36,36,36)",
            "showbackground": true,
            "showgrid": false,
            "showline": true,
            "ticks": "outside",
            "zeroline": false,
            "zerolinecolor": "rgb(36,36,36)"
           },
           "yaxis": {
            "backgroundcolor": "white",
            "gridcolor": "rgb(232,232,232)",
            "gridwidth": 2,
            "linecolor": "rgb(36,36,36)",
            "showbackground": true,
            "showgrid": false,
            "showline": true,
            "ticks": "outside",
            "zeroline": false,
            "zerolinecolor": "rgb(36,36,36)"
           },
           "zaxis": {
            "backgroundcolor": "white",
            "gridcolor": "rgb(232,232,232)",
            "gridwidth": 2,
            "linecolor": "rgb(36,36,36)",
            "showbackground": true,
            "showgrid": false,
            "showline": true,
            "ticks": "outside",
            "zeroline": false,
            "zerolinecolor": "rgb(36,36,36)"
           }
          },
          "shapedefaults": {
           "fillcolor": "black",
           "line": {
            "width": 0
           },
           "opacity": 0.3
          },
          "ternary": {
           "aaxis": {
            "gridcolor": "rgb(232,232,232)",
            "linecolor": "rgb(36,36,36)",
            "showgrid": false,
            "showline": true,
            "ticks": "outside"
           },
           "baxis": {
            "gridcolor": "rgb(232,232,232)",
            "linecolor": "rgb(36,36,36)",
            "showgrid": false,
            "showline": true,
            "ticks": "outside"
           },
           "bgcolor": "white",
           "caxis": {
            "gridcolor": "rgb(232,232,232)",
            "linecolor": "rgb(36,36,36)",
            "showgrid": false,
            "showline": true,
            "ticks": "outside"
           }
          },
          "title": {
           "x": 0.05
          },
          "xaxis": {
           "automargin": true,
           "gridcolor": "rgb(232,232,232)",
           "linecolor": "rgb(36,36,36)",
           "showgrid": false,
           "showline": true,
           "ticks": "outside",
           "title": {
            "standoff": 15
           },
           "zeroline": false,
           "zerolinecolor": "rgb(36,36,36)"
          },
          "yaxis": {
           "automargin": true,
           "gridcolor": "rgb(232,232,232)",
           "linecolor": "rgb(36,36,36)",
           "showgrid": false,
           "showline": true,
           "ticks": "outside",
           "title": {
            "standoff": 15
           },
           "zeroline": false,
           "zerolinecolor": "rgb(36,36,36)"
          }
         }
        },
        "title": {
         "text": "Economie voorbeeld"
        },
        "xaxis": {
         "anchor": "y",
         "domain": [
          0,
          1
         ],
         "title": {
          "text": "Tijd"
         }
        },
        "yaxis": {
         "anchor": "x",
         "domain": [
          0,
          1
         ],
         "tickprefix": "$",
         "title": {
          "text": "geld"
         }
        }
       }
      }
     },
     "metadata": {},
     "output_type": "display_data"
    }
   ],
   "source": [
    "import pandas as pd\n",
    "pd.options.plotting.backend = \"plotly\"\n",
    "\n",
    "df = pd.DataFrame(dict(a=[1,3,2], b=[3,2,1]))\n",
    "fig = df.plot(title=\"Economie voorbeeld\", template=\"simple_white\",\n",
    "              labels=dict(index=\"Tijd\", value=\"geld\", variable=\"optie\"))\n",
    "fig.update_yaxes(tickprefix=\"$\")\n",
    "fig.show()"
   ]
  },
  {
   "cell_type": "code",
   "execution_count": 1,
   "metadata": {
    "tags": [
     "remove-input"
    ]
   },
   "outputs": [
    {
     "data": {
      "application/vnd.plotly.v1+json": {
       "config": {
        "plotlyServerURL": "https://plot.ly"
       },
       "data": [
        {
         "name": "y = x^2",
         "type": "scatter",
         "x": [
          0,
          1,
          2,
          3,
          4
         ],
         "y": [
          0,
          1,
          4,
          9,
          16
         ]
        },
        {
         "name": "lijn: y = x + 2",
         "type": "scatter",
         "x": [
          0,
          1,
          2,
          3,
          4,
          5,
          6,
          7,
          8
         ],
         "y": [
          2,
          3,
          4,
          5,
          6,
          7,
          8,
          9,
          10
         ]
        }
       ],
       "layout": {
        "font": {
         "color": "RebeccaPurple",
         "family": "Courier New, monospace",
         "size": 18
        },
        "legend": {
         "title": {
          "text": "Legenda"
         }
        },
        "template": {
         "data": {
          "bar": [
           {
            "error_x": {
             "color": "#2a3f5f"
            },
            "error_y": {
             "color": "#2a3f5f"
            },
            "marker": {
             "line": {
              "color": "#E5ECF6",
              "width": 0.5
             },
             "pattern": {
              "fillmode": "overlay",
              "size": 10,
              "solidity": 0.2
             }
            },
            "type": "bar"
           }
          ],
          "barpolar": [
           {
            "marker": {
             "line": {
              "color": "#E5ECF6",
              "width": 0.5
             },
             "pattern": {
              "fillmode": "overlay",
              "size": 10,
              "solidity": 0.2
             }
            },
            "type": "barpolar"
           }
          ],
          "carpet": [
           {
            "aaxis": {
             "endlinecolor": "#2a3f5f",
             "gridcolor": "white",
             "linecolor": "white",
             "minorgridcolor": "white",
             "startlinecolor": "#2a3f5f"
            },
            "baxis": {
             "endlinecolor": "#2a3f5f",
             "gridcolor": "white",
             "linecolor": "white",
             "minorgridcolor": "white",
             "startlinecolor": "#2a3f5f"
            },
            "type": "carpet"
           }
          ],
          "choropleth": [
           {
            "colorbar": {
             "outlinewidth": 0,
             "ticks": ""
            },
            "type": "choropleth"
           }
          ],
          "contour": [
           {
            "colorbar": {
             "outlinewidth": 0,
             "ticks": ""
            },
            "colorscale": [
             [
              0,
              "#0d0887"
             ],
             [
              0.1111111111111111,
              "#46039f"
             ],
             [
              0.2222222222222222,
              "#7201a8"
             ],
             [
              0.3333333333333333,
              "#9c179e"
             ],
             [
              0.4444444444444444,
              "#bd3786"
             ],
             [
              0.5555555555555556,
              "#d8576b"
             ],
             [
              0.6666666666666666,
              "#ed7953"
             ],
             [
              0.7777777777777778,
              "#fb9f3a"
             ],
             [
              0.8888888888888888,
              "#fdca26"
             ],
             [
              1,
              "#f0f921"
             ]
            ],
            "type": "contour"
           }
          ],
          "contourcarpet": [
           {
            "colorbar": {
             "outlinewidth": 0,
             "ticks": ""
            },
            "type": "contourcarpet"
           }
          ],
          "heatmap": [
           {
            "colorbar": {
             "outlinewidth": 0,
             "ticks": ""
            },
            "colorscale": [
             [
              0,
              "#0d0887"
             ],
             [
              0.1111111111111111,
              "#46039f"
             ],
             [
              0.2222222222222222,
              "#7201a8"
             ],
             [
              0.3333333333333333,
              "#9c179e"
             ],
             [
              0.4444444444444444,
              "#bd3786"
             ],
             [
              0.5555555555555556,
              "#d8576b"
             ],
             [
              0.6666666666666666,
              "#ed7953"
             ],
             [
              0.7777777777777778,
              "#fb9f3a"
             ],
             [
              0.8888888888888888,
              "#fdca26"
             ],
             [
              1,
              "#f0f921"
             ]
            ],
            "type": "heatmap"
           }
          ],
          "heatmapgl": [
           {
            "colorbar": {
             "outlinewidth": 0,
             "ticks": ""
            },
            "colorscale": [
             [
              0,
              "#0d0887"
             ],
             [
              0.1111111111111111,
              "#46039f"
             ],
             [
              0.2222222222222222,
              "#7201a8"
             ],
             [
              0.3333333333333333,
              "#9c179e"
             ],
             [
              0.4444444444444444,
              "#bd3786"
             ],
             [
              0.5555555555555556,
              "#d8576b"
             ],
             [
              0.6666666666666666,
              "#ed7953"
             ],
             [
              0.7777777777777778,
              "#fb9f3a"
             ],
             [
              0.8888888888888888,
              "#fdca26"
             ],
             [
              1,
              "#f0f921"
             ]
            ],
            "type": "heatmapgl"
           }
          ],
          "histogram": [
           {
            "marker": {
             "pattern": {
              "fillmode": "overlay",
              "size": 10,
              "solidity": 0.2
             }
            },
            "type": "histogram"
           }
          ],
          "histogram2d": [
           {
            "colorbar": {
             "outlinewidth": 0,
             "ticks": ""
            },
            "colorscale": [
             [
              0,
              "#0d0887"
             ],
             [
              0.1111111111111111,
              "#46039f"
             ],
             [
              0.2222222222222222,
              "#7201a8"
             ],
             [
              0.3333333333333333,
              "#9c179e"
             ],
             [
              0.4444444444444444,
              "#bd3786"
             ],
             [
              0.5555555555555556,
              "#d8576b"
             ],
             [
              0.6666666666666666,
              "#ed7953"
             ],
             [
              0.7777777777777778,
              "#fb9f3a"
             ],
             [
              0.8888888888888888,
              "#fdca26"
             ],
             [
              1,
              "#f0f921"
             ]
            ],
            "type": "histogram2d"
           }
          ],
          "histogram2dcontour": [
           {
            "colorbar": {
             "outlinewidth": 0,
             "ticks": ""
            },
            "colorscale": [
             [
              0,
              "#0d0887"
             ],
             [
              0.1111111111111111,
              "#46039f"
             ],
             [
              0.2222222222222222,
              "#7201a8"
             ],
             [
              0.3333333333333333,
              "#9c179e"
             ],
             [
              0.4444444444444444,
              "#bd3786"
             ],
             [
              0.5555555555555556,
              "#d8576b"
             ],
             [
              0.6666666666666666,
              "#ed7953"
             ],
             [
              0.7777777777777778,
              "#fb9f3a"
             ],
             [
              0.8888888888888888,
              "#fdca26"
             ],
             [
              1,
              "#f0f921"
             ]
            ],
            "type": "histogram2dcontour"
           }
          ],
          "mesh3d": [
           {
            "colorbar": {
             "outlinewidth": 0,
             "ticks": ""
            },
            "type": "mesh3d"
           }
          ],
          "parcoords": [
           {
            "line": {
             "colorbar": {
              "outlinewidth": 0,
              "ticks": ""
             }
            },
            "type": "parcoords"
           }
          ],
          "pie": [
           {
            "automargin": true,
            "type": "pie"
           }
          ],
          "scatter": [
           {
            "marker": {
             "colorbar": {
              "outlinewidth": 0,
              "ticks": ""
             }
            },
            "type": "scatter"
           }
          ],
          "scatter3d": [
           {
            "line": {
             "colorbar": {
              "outlinewidth": 0,
              "ticks": ""
             }
            },
            "marker": {
             "colorbar": {
              "outlinewidth": 0,
              "ticks": ""
             }
            },
            "type": "scatter3d"
           }
          ],
          "scattercarpet": [
           {
            "marker": {
             "colorbar": {
              "outlinewidth": 0,
              "ticks": ""
             }
            },
            "type": "scattercarpet"
           }
          ],
          "scattergeo": [
           {
            "marker": {
             "colorbar": {
              "outlinewidth": 0,
              "ticks": ""
             }
            },
            "type": "scattergeo"
           }
          ],
          "scattergl": [
           {
            "marker": {
             "colorbar": {
              "outlinewidth": 0,
              "ticks": ""
             }
            },
            "type": "scattergl"
           }
          ],
          "scattermapbox": [
           {
            "marker": {
             "colorbar": {
              "outlinewidth": 0,
              "ticks": ""
             }
            },
            "type": "scattermapbox"
           }
          ],
          "scatterpolar": [
           {
            "marker": {
             "colorbar": {
              "outlinewidth": 0,
              "ticks": ""
             }
            },
            "type": "scatterpolar"
           }
          ],
          "scatterpolargl": [
           {
            "marker": {
             "colorbar": {
              "outlinewidth": 0,
              "ticks": ""
             }
            },
            "type": "scatterpolargl"
           }
          ],
          "scatterternary": [
           {
            "marker": {
             "colorbar": {
              "outlinewidth": 0,
              "ticks": ""
             }
            },
            "type": "scatterternary"
           }
          ],
          "surface": [
           {
            "colorbar": {
             "outlinewidth": 0,
             "ticks": ""
            },
            "colorscale": [
             [
              0,
              "#0d0887"
             ],
             [
              0.1111111111111111,
              "#46039f"
             ],
             [
              0.2222222222222222,
              "#7201a8"
             ],
             [
              0.3333333333333333,
              "#9c179e"
             ],
             [
              0.4444444444444444,
              "#bd3786"
             ],
             [
              0.5555555555555556,
              "#d8576b"
             ],
             [
              0.6666666666666666,
              "#ed7953"
             ],
             [
              0.7777777777777778,
              "#fb9f3a"
             ],
             [
              0.8888888888888888,
              "#fdca26"
             ],
             [
              1,
              "#f0f921"
             ]
            ],
            "type": "surface"
           }
          ],
          "table": [
           {
            "cells": {
             "fill": {
              "color": "#EBF0F8"
             },
             "line": {
              "color": "white"
             }
            },
            "header": {
             "fill": {
              "color": "#C8D4E3"
             },
             "line": {
              "color": "white"
             }
            },
            "type": "table"
           }
          ]
         },
         "layout": {
          "annotationdefaults": {
           "arrowcolor": "#2a3f5f",
           "arrowhead": 0,
           "arrowwidth": 1
          },
          "autotypenumbers": "strict",
          "coloraxis": {
           "colorbar": {
            "outlinewidth": 0,
            "ticks": ""
           }
          },
          "colorscale": {
           "diverging": [
            [
             0,
             "#8e0152"
            ],
            [
             0.1,
             "#c51b7d"
            ],
            [
             0.2,
             "#de77ae"
            ],
            [
             0.3,
             "#f1b6da"
            ],
            [
             0.4,
             "#fde0ef"
            ],
            [
             0.5,
             "#f7f7f7"
            ],
            [
             0.6,
             "#e6f5d0"
            ],
            [
             0.7,
             "#b8e186"
            ],
            [
             0.8,
             "#7fbc41"
            ],
            [
             0.9,
             "#4d9221"
            ],
            [
             1,
             "#276419"
            ]
           ],
           "sequential": [
            [
             0,
             "#0d0887"
            ],
            [
             0.1111111111111111,
             "#46039f"
            ],
            [
             0.2222222222222222,
             "#7201a8"
            ],
            [
             0.3333333333333333,
             "#9c179e"
            ],
            [
             0.4444444444444444,
             "#bd3786"
            ],
            [
             0.5555555555555556,
             "#d8576b"
            ],
            [
             0.6666666666666666,
             "#ed7953"
            ],
            [
             0.7777777777777778,
             "#fb9f3a"
            ],
            [
             0.8888888888888888,
             "#fdca26"
            ],
            [
             1,
             "#f0f921"
            ]
           ],
           "sequentialminus": [
            [
             0,
             "#0d0887"
            ],
            [
             0.1111111111111111,
             "#46039f"
            ],
            [
             0.2222222222222222,
             "#7201a8"
            ],
            [
             0.3333333333333333,
             "#9c179e"
            ],
            [
             0.4444444444444444,
             "#bd3786"
            ],
            [
             0.5555555555555556,
             "#d8576b"
            ],
            [
             0.6666666666666666,
             "#ed7953"
            ],
            [
             0.7777777777777778,
             "#fb9f3a"
            ],
            [
             0.8888888888888888,
             "#fdca26"
            ],
            [
             1,
             "#f0f921"
            ]
           ]
          },
          "colorway": [
           "#636efa",
           "#EF553B",
           "#00cc96",
           "#ab63fa",
           "#FFA15A",
           "#19d3f3",
           "#FF6692",
           "#B6E880",
           "#FF97FF",
           "#FECB52"
          ],
          "font": {
           "color": "#2a3f5f"
          },
          "geo": {
           "bgcolor": "white",
           "lakecolor": "white",
           "landcolor": "#E5ECF6",
           "showlakes": true,
           "showland": true,
           "subunitcolor": "white"
          },
          "hoverlabel": {
           "align": "left"
          },
          "hovermode": "closest",
          "mapbox": {
           "style": "light"
          },
          "paper_bgcolor": "white",
          "plot_bgcolor": "#E5ECF6",
          "polar": {
           "angularaxis": {
            "gridcolor": "white",
            "linecolor": "white",
            "ticks": ""
           },
           "bgcolor": "#E5ECF6",
           "radialaxis": {
            "gridcolor": "white",
            "linecolor": "white",
            "ticks": ""
           }
          },
          "scene": {
           "xaxis": {
            "backgroundcolor": "#E5ECF6",
            "gridcolor": "white",
            "gridwidth": 2,
            "linecolor": "white",
            "showbackground": true,
            "ticks": "",
            "zerolinecolor": "white"
           },
           "yaxis": {
            "backgroundcolor": "#E5ECF6",
            "gridcolor": "white",
            "gridwidth": 2,
            "linecolor": "white",
            "showbackground": true,
            "ticks": "",
            "zerolinecolor": "white"
           },
           "zaxis": {
            "backgroundcolor": "#E5ECF6",
            "gridcolor": "white",
            "gridwidth": 2,
            "linecolor": "white",
            "showbackground": true,
            "ticks": "",
            "zerolinecolor": "white"
           }
          },
          "shapedefaults": {
           "line": {
            "color": "#2a3f5f"
           }
          },
          "ternary": {
           "aaxis": {
            "gridcolor": "white",
            "linecolor": "white",
            "ticks": ""
           },
           "baxis": {
            "gridcolor": "white",
            "linecolor": "white",
            "ticks": ""
           },
           "bgcolor": "#E5ECF6",
           "caxis": {
            "gridcolor": "white",
            "linecolor": "white",
            "ticks": ""
           }
          },
          "title": {
           "x": 0.05
          },
          "xaxis": {
           "automargin": true,
           "gridcolor": "white",
           "linecolor": "white",
           "ticks": "",
           "title": {
            "standoff": 15
           },
           "zerolinecolor": "white",
           "zerolinewidth": 2
          },
          "yaxis": {
           "automargin": true,
           "gridcolor": "white",
           "linecolor": "white",
           "ticks": "",
           "title": {
            "standoff": 15
           },
           "zerolinecolor": "white",
           "zerolinewidth": 2
          }
         }
        },
        "title": {
         "text": "Titel"
        },
        "xaxis": {
         "title": {
          "text": "X as"
         }
        },
        "yaxis": {
         "title": {
          "text": "Y as "
         }
        }
       }
      }
     },
     "metadata": {},
     "output_type": "display_data"
    }
   ],
   "source": [
    "import plotly.graph_objects as go\n",
    "\n",
    "fig = go.Figure()\n",
    "\n",
    "fig.add_trace(go.Scatter(\n",
    "    x=[0, 1, 2, 3, 4],\n",
    "    y=[0, 1, 4, 9, 16],\n",
    "    name=\"y = x^2\"       # this sets its legend entry\n",
    "))\n",
    "\n",
    "\n",
    "fig.add_trace(go.Scatter(\n",
    "    x=[0, 1, 2, 3, 4, 5, 6, 7, 8],\n",
    "    y=[2, 3, 4, 5, 6, 7, 8, 9, 10],\n",
    "    name=\"lijn: y = x + 2\"\n",
    "))\n",
    "\n",
    "fig.update_layout(\n",
    "    title=\"Titel\",\n",
    "    xaxis_title=\"X as\",\n",
    "    yaxis_title=\"Y as \",\n",
    "    legend_title=\"Legenda\",\n",
    "    font=dict(\n",
    "        family=\"Courier New, monospace\",\n",
    "        size=18,\n",
    "        color=\"RebeccaPurple\"\n",
    "    )\n",
    ")\n",
    "\n",
    "fig.show()"
   ]
  },
  {
   "cell_type": "code",
   "execution_count": 3,
   "metadata": {
    "tags": [
     "remove-input"
    ]
   },
   "outputs": [
    {
     "data": {
      "application/vnd.plotly.v1+json": {
       "config": {
        "plotlyServerURL": "https://plot.ly"
       },
       "data": [
        {
         "alignmentgroup": "True",
         "hovertemplate": "variable=%{x}<br>value=%{y}<extra></extra>",
         "legendgroup": "",
         "marker": {
          "color": "#636efa"
         },
         "name": "",
         "notched": false,
         "offsetgroup": "",
         "orientation": "v",
         "showlegend": false,
         "type": "box",
         "x": [
          "a",
          "a",
          "a",
          "a",
          "a",
          "a",
          "a",
          "a",
          "a",
          "a",
          "a",
          "a",
          "a",
          "a",
          "a",
          "a",
          "a",
          "a",
          "a",
          "a",
          "a",
          "a",
          "a",
          "a",
          "a",
          "a",
          "a",
          "a",
          "a",
          "a",
          "a",
          "a",
          "a",
          "a",
          "a",
          "a",
          "a",
          "a",
          "a",
          "a",
          "a",
          "a",
          "a",
          "a",
          "a",
          "a",
          "a",
          "a",
          "a",
          "a",
          "a",
          "a",
          "a",
          "a",
          "a",
          "a",
          "a",
          "a",
          "a",
          "a",
          "a",
          "a",
          "a",
          "a",
          "a",
          "a",
          "a",
          "a",
          "a",
          "a",
          "a",
          "a",
          "a",
          "a",
          "a",
          "a",
          "a",
          "a",
          "a",
          "a",
          "a",
          "a",
          "a",
          "a",
          "a",
          "a",
          "a",
          "a",
          "a",
          "a",
          "a",
          "a",
          "a",
          "a",
          "a",
          "a",
          "a",
          "a",
          "a",
          "a",
          "b",
          "b",
          "b",
          "b",
          "b",
          "b",
          "b",
          "b",
          "b",
          "b",
          "b",
          "b",
          "b",
          "b",
          "b",
          "b",
          "b",
          "b",
          "b",
          "b",
          "b",
          "b",
          "b",
          "b",
          "b",
          "b",
          "b",
          "b",
          "b",
          "b",
          "b",
          "b",
          "b",
          "b",
          "b",
          "b",
          "b",
          "b",
          "b",
          "b",
          "b",
          "b",
          "b",
          "b",
          "b",
          "b",
          "b",
          "b",
          "b",
          "b",
          "b",
          "b",
          "b",
          "b",
          "b",
          "b",
          "b",
          "b",
          "b",
          "b",
          "b",
          "b",
          "b",
          "b",
          "b",
          "b",
          "b",
          "b",
          "b",
          "b",
          "b",
          "b",
          "b",
          "b",
          "b",
          "b",
          "b",
          "b",
          "b",
          "b",
          "b",
          "b",
          "b",
          "b",
          "b",
          "b",
          "b",
          "b",
          "b",
          "b",
          "b",
          "b",
          "b",
          "b",
          "b",
          "b",
          "b",
          "b",
          "b",
          "b"
         ],
         "x0": " ",
         "xaxis": "x",
         "y": [
          4.248690727326483,
          -0.22351282730015076,
          -0.05634350452691139,
          -1.145937244312341,
          2.730815258649357,
          -3.6030773937605654,
          4.4896235284329595,
          -0.5224138017902056,
          1.6380781921141971,
          0.5012592490451798,
          3.924215874089948,
          -3.120281418995308,
          0.35516559197298503,
          0.23189129066316871,
          3.267538884670875,
          -1.1997825346280617,
          0.6551435848991285,
          -0.7557168358427435,
          1.0844274934311857,
          2.1656304274316445,
          -1.2012383544258425,
          3.2894474196792283,
          2.803181441185591,
          2.0049886778037367,
          2.801711898528824,
          -0.3674557183486662,
          0.7542195489627037,
          -0.8715388685181376,
          0.4642238407479682,
          2.060710933476372,
          -0.3833215034506181,
          0.20649294628804526,
          -0.3743454002391988,
          -0.6904112829974391,
          -0.3424922616736381,
          0.9746708021621973,
          -1.2346206972705556,
          1.4688313956341843,
          4.3196043542197415,
          2.484088321154671,
          0.6163288952767702,
          -0.7752579281696725,
          -0.4943165875016753,
          4.384909202055493,
          1.101615509552058,
          -0.27399129313870674,
          1.381830969334932,
          5.200510272957684,
          1.2403179049632582,
          2.234406219414838,
          1.6003406399116549,
          0.2955003070129627,
          -1.2850363960442803,
          0.301314555174245,
          0.5822115332504438,
          2.173246382364395,
          2.67796682774901,
          2.8622041626071146,
          1.5711746505085176,
          2.770282328541456,
          -0.5087958819933056,
          3.5057363104665757,
          2.0258596408360177,
          0.40381432979456866,
          1.977036293074994,
          0.8488565739578886,
          3.263258774902854,
          4.039633632844398,
          5.371150813066323,
          -1.7929926709762753,
          -1.888227610859179,
          -0.008931725892902476,
          1.320074138895661,
          2.75233784223245,
          1.6312698944832105,
          -3.044402431648006,
          0.38759197474325635,
          2.6559492852144926,
          1.4601894707287668,
          2.5240223606240493,
          0.5553437147792815,
          0.598483862140005,
          1.3731227819765686,
          1.8201032944165125,
          1.3965994402535395,
          1.2380172916149177,
          -0.34132457257806115,
          1.7551275726418387,
          1.2436425419828738,
          3.2589678158238393,
          3.397835759803014,
          1.3703128349678877,
          0.2494300998197716,
          -0.27746081490844476,
          1.846988708128226,
          1.1546801366971189,
          0.3122926488578488,
          1.087193713668494,
          -0.24000168789625853,
          2.3960640681444376,
          1.5528714352140018,
          3.224507704805499,
          2.4034916417908,
          2.593578523237067,
          0.9050881542589582,
          2.169382433058668,
          2.7405564510962748,
          1.0462993981920654,
          1.733781493996378,
          2.0326145466933587,
          0.6268826797532443,
          2.315159392042292,
          2.8461606475850334,
          1.1404840591680137,
          2.3505459786641074,
          0.6877165887625682,
          1.961304490733949,
          0.3842276452967053,
          3.121417708235664,
          2.4089005379368276,
          1.9753830441242217,
          1.2248383808308403,
          3.2737559301587766,
          3.9671017492547347,
          0.14201813555324794,
          3.2361640304528203,
          3.6276507531489064,
          2.3380116965744757,
          0.8007319676648139,
          2.8633453175440216,
          1.8190796979218495,
          1.3960793722067426,
          0.7699418643330382,
          2.5505374959762155,
          2.7928068659193475,
          1.3764692703202084,
          2.5205763370733707,
          0.8556586103768573,
          2.801861031871345,
          2.0465672984241454,
          1.8134302280926513,
          1.8982541274708549,
          2.8688861570058677,
          2.7504116398650083,
          2.529465324352709,
          2.137701209997386,
          2.077821127912706,
          2.6183802619985244,
          2.232494559178738,
          2.6825514068644853,
          1.68988322648194,
          -0.4348377641071388,
          3.038824601859414,
          4.186979646974258,
          2.441364443568582,
          1.8998447667165002,
          1.863555256103967,
          1.88094581222519,
          2.0174094083000047,
          0.8779812712531117,
          1.482905542079772,
          1.002973172349737,
          2.2487991613877707,
          1.7033588476291373,
          2.4952113239779603,
          1.825296840257499,
          2.986335187821242,
          2.213533901335442,
          4.190699728969733,
          0.10363907710890752,
          1.353083311745092,
          2.901486891648711,
          4.528325706806398,
          1.75136522228454,
          2.043668993178389,
          1.773685757486395,
          3.331457112587592,
          1.7126921365239811,
          2.6800698398781044,
          1.680198401101329,
          0.7274412447540057,
          2.3135477204634323,
          2.5031848134353263,
          3.293225882532262,
          1.8895529735826837,
          1.382637936287639,
          2.562761096619026,
          2.2407370922377323,
          2.280665077122639,
          1.9268872962527221,
          3.16033856999377,
          2.369492716375724,
          3.904658708340981,
          3.1110566985605046,
          2.65904979610021,
          0.37256165938374264,
          2.602319280295629,
          2.4202822036470595,
          2.8109516728035557,
          3.044442094707259
         ],
         "y0": " ",
         "yaxis": "y"
        }
       ],
       "layout": {
        "boxmode": "group",
        "legend": {
         "tracegroupgap": 0
        },
        "margin": {
         "t": 60
        },
        "template": {
         "data": {
          "bar": [
           {
            "error_x": {
             "color": "#2a3f5f"
            },
            "error_y": {
             "color": "#2a3f5f"
            },
            "marker": {
             "line": {
              "color": "#E5ECF6",
              "width": 0.5
             },
             "pattern": {
              "fillmode": "overlay",
              "size": 10,
              "solidity": 0.2
             }
            },
            "type": "bar"
           }
          ],
          "barpolar": [
           {
            "marker": {
             "line": {
              "color": "#E5ECF6",
              "width": 0.5
             },
             "pattern": {
              "fillmode": "overlay",
              "size": 10,
              "solidity": 0.2
             }
            },
            "type": "barpolar"
           }
          ],
          "carpet": [
           {
            "aaxis": {
             "endlinecolor": "#2a3f5f",
             "gridcolor": "white",
             "linecolor": "white",
             "minorgridcolor": "white",
             "startlinecolor": "#2a3f5f"
            },
            "baxis": {
             "endlinecolor": "#2a3f5f",
             "gridcolor": "white",
             "linecolor": "white",
             "minorgridcolor": "white",
             "startlinecolor": "#2a3f5f"
            },
            "type": "carpet"
           }
          ],
          "choropleth": [
           {
            "colorbar": {
             "outlinewidth": 0,
             "ticks": ""
            },
            "type": "choropleth"
           }
          ],
          "contour": [
           {
            "colorbar": {
             "outlinewidth": 0,
             "ticks": ""
            },
            "colorscale": [
             [
              0,
              "#0d0887"
             ],
             [
              0.1111111111111111,
              "#46039f"
             ],
             [
              0.2222222222222222,
              "#7201a8"
             ],
             [
              0.3333333333333333,
              "#9c179e"
             ],
             [
              0.4444444444444444,
              "#bd3786"
             ],
             [
              0.5555555555555556,
              "#d8576b"
             ],
             [
              0.6666666666666666,
              "#ed7953"
             ],
             [
              0.7777777777777778,
              "#fb9f3a"
             ],
             [
              0.8888888888888888,
              "#fdca26"
             ],
             [
              1,
              "#f0f921"
             ]
            ],
            "type": "contour"
           }
          ],
          "contourcarpet": [
           {
            "colorbar": {
             "outlinewidth": 0,
             "ticks": ""
            },
            "type": "contourcarpet"
           }
          ],
          "heatmap": [
           {
            "colorbar": {
             "outlinewidth": 0,
             "ticks": ""
            },
            "colorscale": [
             [
              0,
              "#0d0887"
             ],
             [
              0.1111111111111111,
              "#46039f"
             ],
             [
              0.2222222222222222,
              "#7201a8"
             ],
             [
              0.3333333333333333,
              "#9c179e"
             ],
             [
              0.4444444444444444,
              "#bd3786"
             ],
             [
              0.5555555555555556,
              "#d8576b"
             ],
             [
              0.6666666666666666,
              "#ed7953"
             ],
             [
              0.7777777777777778,
              "#fb9f3a"
             ],
             [
              0.8888888888888888,
              "#fdca26"
             ],
             [
              1,
              "#f0f921"
             ]
            ],
            "type": "heatmap"
           }
          ],
          "heatmapgl": [
           {
            "colorbar": {
             "outlinewidth": 0,
             "ticks": ""
            },
            "colorscale": [
             [
              0,
              "#0d0887"
             ],
             [
              0.1111111111111111,
              "#46039f"
             ],
             [
              0.2222222222222222,
              "#7201a8"
             ],
             [
              0.3333333333333333,
              "#9c179e"
             ],
             [
              0.4444444444444444,
              "#bd3786"
             ],
             [
              0.5555555555555556,
              "#d8576b"
             ],
             [
              0.6666666666666666,
              "#ed7953"
             ],
             [
              0.7777777777777778,
              "#fb9f3a"
             ],
             [
              0.8888888888888888,
              "#fdca26"
             ],
             [
              1,
              "#f0f921"
             ]
            ],
            "type": "heatmapgl"
           }
          ],
          "histogram": [
           {
            "marker": {
             "pattern": {
              "fillmode": "overlay",
              "size": 10,
              "solidity": 0.2
             }
            },
            "type": "histogram"
           }
          ],
          "histogram2d": [
           {
            "colorbar": {
             "outlinewidth": 0,
             "ticks": ""
            },
            "colorscale": [
             [
              0,
              "#0d0887"
             ],
             [
              0.1111111111111111,
              "#46039f"
             ],
             [
              0.2222222222222222,
              "#7201a8"
             ],
             [
              0.3333333333333333,
              "#9c179e"
             ],
             [
              0.4444444444444444,
              "#bd3786"
             ],
             [
              0.5555555555555556,
              "#d8576b"
             ],
             [
              0.6666666666666666,
              "#ed7953"
             ],
             [
              0.7777777777777778,
              "#fb9f3a"
             ],
             [
              0.8888888888888888,
              "#fdca26"
             ],
             [
              1,
              "#f0f921"
             ]
            ],
            "type": "histogram2d"
           }
          ],
          "histogram2dcontour": [
           {
            "colorbar": {
             "outlinewidth": 0,
             "ticks": ""
            },
            "colorscale": [
             [
              0,
              "#0d0887"
             ],
             [
              0.1111111111111111,
              "#46039f"
             ],
             [
              0.2222222222222222,
              "#7201a8"
             ],
             [
              0.3333333333333333,
              "#9c179e"
             ],
             [
              0.4444444444444444,
              "#bd3786"
             ],
             [
              0.5555555555555556,
              "#d8576b"
             ],
             [
              0.6666666666666666,
              "#ed7953"
             ],
             [
              0.7777777777777778,
              "#fb9f3a"
             ],
             [
              0.8888888888888888,
              "#fdca26"
             ],
             [
              1,
              "#f0f921"
             ]
            ],
            "type": "histogram2dcontour"
           }
          ],
          "mesh3d": [
           {
            "colorbar": {
             "outlinewidth": 0,
             "ticks": ""
            },
            "type": "mesh3d"
           }
          ],
          "parcoords": [
           {
            "line": {
             "colorbar": {
              "outlinewidth": 0,
              "ticks": ""
             }
            },
            "type": "parcoords"
           }
          ],
          "pie": [
           {
            "automargin": true,
            "type": "pie"
           }
          ],
          "scatter": [
           {
            "fillpattern": {
             "fillmode": "overlay",
             "size": 10,
             "solidity": 0.2
            },
            "type": "scatter"
           }
          ],
          "scatter3d": [
           {
            "line": {
             "colorbar": {
              "outlinewidth": 0,
              "ticks": ""
             }
            },
            "marker": {
             "colorbar": {
              "outlinewidth": 0,
              "ticks": ""
             }
            },
            "type": "scatter3d"
           }
          ],
          "scattercarpet": [
           {
            "marker": {
             "colorbar": {
              "outlinewidth": 0,
              "ticks": ""
             }
            },
            "type": "scattercarpet"
           }
          ],
          "scattergeo": [
           {
            "marker": {
             "colorbar": {
              "outlinewidth": 0,
              "ticks": ""
             }
            },
            "type": "scattergeo"
           }
          ],
          "scattergl": [
           {
            "marker": {
             "colorbar": {
              "outlinewidth": 0,
              "ticks": ""
             }
            },
            "type": "scattergl"
           }
          ],
          "scattermapbox": [
           {
            "marker": {
             "colorbar": {
              "outlinewidth": 0,
              "ticks": ""
             }
            },
            "type": "scattermapbox"
           }
          ],
          "scatterpolar": [
           {
            "marker": {
             "colorbar": {
              "outlinewidth": 0,
              "ticks": ""
             }
            },
            "type": "scatterpolar"
           }
          ],
          "scatterpolargl": [
           {
            "marker": {
             "colorbar": {
              "outlinewidth": 0,
              "ticks": ""
             }
            },
            "type": "scatterpolargl"
           }
          ],
          "scatterternary": [
           {
            "marker": {
             "colorbar": {
              "outlinewidth": 0,
              "ticks": ""
             }
            },
            "type": "scatterternary"
           }
          ],
          "surface": [
           {
            "colorbar": {
             "outlinewidth": 0,
             "ticks": ""
            },
            "colorscale": [
             [
              0,
              "#0d0887"
             ],
             [
              0.1111111111111111,
              "#46039f"
             ],
             [
              0.2222222222222222,
              "#7201a8"
             ],
             [
              0.3333333333333333,
              "#9c179e"
             ],
             [
              0.4444444444444444,
              "#bd3786"
             ],
             [
              0.5555555555555556,
              "#d8576b"
             ],
             [
              0.6666666666666666,
              "#ed7953"
             ],
             [
              0.7777777777777778,
              "#fb9f3a"
             ],
             [
              0.8888888888888888,
              "#fdca26"
             ],
             [
              1,
              "#f0f921"
             ]
            ],
            "type": "surface"
           }
          ],
          "table": [
           {
            "cells": {
             "fill": {
              "color": "#EBF0F8"
             },
             "line": {
              "color": "white"
             }
            },
            "header": {
             "fill": {
              "color": "#C8D4E3"
             },
             "line": {
              "color": "white"
             }
            },
            "type": "table"
           }
          ]
         },
         "layout": {
          "annotationdefaults": {
           "arrowcolor": "#2a3f5f",
           "arrowhead": 0,
           "arrowwidth": 1
          },
          "autotypenumbers": "strict",
          "coloraxis": {
           "colorbar": {
            "outlinewidth": 0,
            "ticks": ""
           }
          },
          "colorscale": {
           "diverging": [
            [
             0,
             "#8e0152"
            ],
            [
             0.1,
             "#c51b7d"
            ],
            [
             0.2,
             "#de77ae"
            ],
            [
             0.3,
             "#f1b6da"
            ],
            [
             0.4,
             "#fde0ef"
            ],
            [
             0.5,
             "#f7f7f7"
            ],
            [
             0.6,
             "#e6f5d0"
            ],
            [
             0.7,
             "#b8e186"
            ],
            [
             0.8,
             "#7fbc41"
            ],
            [
             0.9,
             "#4d9221"
            ],
            [
             1,
             "#276419"
            ]
           ],
           "sequential": [
            [
             0,
             "#0d0887"
            ],
            [
             0.1111111111111111,
             "#46039f"
            ],
            [
             0.2222222222222222,
             "#7201a8"
            ],
            [
             0.3333333333333333,
             "#9c179e"
            ],
            [
             0.4444444444444444,
             "#bd3786"
            ],
            [
             0.5555555555555556,
             "#d8576b"
            ],
            [
             0.6666666666666666,
             "#ed7953"
            ],
            [
             0.7777777777777778,
             "#fb9f3a"
            ],
            [
             0.8888888888888888,
             "#fdca26"
            ],
            [
             1,
             "#f0f921"
            ]
           ],
           "sequentialminus": [
            [
             0,
             "#0d0887"
            ],
            [
             0.1111111111111111,
             "#46039f"
            ],
            [
             0.2222222222222222,
             "#7201a8"
            ],
            [
             0.3333333333333333,
             "#9c179e"
            ],
            [
             0.4444444444444444,
             "#bd3786"
            ],
            [
             0.5555555555555556,
             "#d8576b"
            ],
            [
             0.6666666666666666,
             "#ed7953"
            ],
            [
             0.7777777777777778,
             "#fb9f3a"
            ],
            [
             0.8888888888888888,
             "#fdca26"
            ],
            [
             1,
             "#f0f921"
            ]
           ]
          },
          "colorway": [
           "#636efa",
           "#EF553B",
           "#00cc96",
           "#ab63fa",
           "#FFA15A",
           "#19d3f3",
           "#FF6692",
           "#B6E880",
           "#FF97FF",
           "#FECB52"
          ],
          "font": {
           "color": "#2a3f5f"
          },
          "geo": {
           "bgcolor": "white",
           "lakecolor": "white",
           "landcolor": "#E5ECF6",
           "showlakes": true,
           "showland": true,
           "subunitcolor": "white"
          },
          "hoverlabel": {
           "align": "left"
          },
          "hovermode": "closest",
          "mapbox": {
           "style": "light"
          },
          "paper_bgcolor": "white",
          "plot_bgcolor": "#E5ECF6",
          "polar": {
           "angularaxis": {
            "gridcolor": "white",
            "linecolor": "white",
            "ticks": ""
           },
           "bgcolor": "#E5ECF6",
           "radialaxis": {
            "gridcolor": "white",
            "linecolor": "white",
            "ticks": ""
           }
          },
          "scene": {
           "xaxis": {
            "backgroundcolor": "#E5ECF6",
            "gridcolor": "white",
            "gridwidth": 2,
            "linecolor": "white",
            "showbackground": true,
            "ticks": "",
            "zerolinecolor": "white"
           },
           "yaxis": {
            "backgroundcolor": "#E5ECF6",
            "gridcolor": "white",
            "gridwidth": 2,
            "linecolor": "white",
            "showbackground": true,
            "ticks": "",
            "zerolinecolor": "white"
           },
           "zaxis": {
            "backgroundcolor": "#E5ECF6",
            "gridcolor": "white",
            "gridwidth": 2,
            "linecolor": "white",
            "showbackground": true,
            "ticks": "",
            "zerolinecolor": "white"
           }
          },
          "shapedefaults": {
           "line": {
            "color": "#2a3f5f"
           }
          },
          "ternary": {
           "aaxis": {
            "gridcolor": "white",
            "linecolor": "white",
            "ticks": ""
           },
           "baxis": {
            "gridcolor": "white",
            "linecolor": "white",
            "ticks": ""
           },
           "bgcolor": "#E5ECF6",
           "caxis": {
            "gridcolor": "white",
            "linecolor": "white",
            "ticks": ""
           }
          },
          "title": {
           "x": 0.05
          },
          "xaxis": {
           "automargin": true,
           "gridcolor": "white",
           "linecolor": "white",
           "ticks": "",
           "title": {
            "standoff": 15
           },
           "zerolinecolor": "white",
           "zerolinewidth": 2
          },
          "yaxis": {
           "automargin": true,
           "gridcolor": "white",
           "linecolor": "white",
           "ticks": "",
           "title": {
            "standoff": 15
           },
           "zerolinecolor": "white",
           "zerolinewidth": 2
          }
         }
        },
        "xaxis": {
         "anchor": "y",
         "domain": [
          0,
          1
         ],
         "title": {
          "text": "variable"
         }
        },
        "yaxis": {
         "anchor": "x",
         "domain": [
          0,
          1
         ],
         "title": {
          "text": "value"
         }
        }
       }
      }
     },
     "metadata": {},
     "output_type": "display_data"
    }
   ],
   "source": [
    "import pandas as pd\n",
    "import numpy as np\n",
    "pd.options.plotting.backend = \"plotly\"\n",
    "np.random.seed(1)\n",
    "\n",
    "df = pd.DataFrame(dict(\n",
    "    a=np.random.normal(loc=1, scale=2, size=100),\n",
    "    b=np.random.normal(loc=2, scale=1, size=100)\n",
    "))\n",
    "fig = df.boxplot()\n",
    "fig.show()"
   ]
  },
  {
   "cell_type": "code",
   "execution_count": 12,
   "metadata": {
    "tags": [
     "remove-cell"
    ]
   },
   "outputs": [
    {
     "data": {
      "image/png": "[encoded data removed]",
      "image/svg+xml": "<?xml version=\"1.0\" encoding=\"utf-8\" standalone=\"no\"?>\n<!DOCTYPE svg PUBLIC \"-//W3C//DTD SVG 1.1//EN\"\n  \"http://www.w3.org/Graphics/SVG/1.1/DTD/svg11.dtd\">\n<svg xmlns:xlink=\"http://www.w3.org/1999/xlink\" width=\"328.9785pt\" height=\"281.06pt\" viewBox=\"0 0 328.9785 281.06\" xmlns=\"http://www.w3.org/2000/svg\" version=\"1.1\">\n <metadata>\n  <rdf:RDF xmlns:dc=\"http://purl.org/dc/elements/1.1/\" xmlns:cc=\"http://creativecommons.org/ns#\" xmlns:rdf=\"http://www.w3.org/1999/02/22-rdf-syntax-ns#\">\n   <cc:Work>\n    <dc:type rdf:resource=\"http://purl.org/dc/dcmitype/StillImage\"/>\n    <dc:date>2022-10-17T17:37:33.479114</dc:date>\n    <dc:format>image/svg+xml</dc:format>\n    <dc:creator>\n     <cc:Agent>\n      <dc:title>Matplotlib v3.5.2, https://matplotlib.org/</dc:title>\n     </cc:Agent>\n    </dc:creator>\n   </cc:Work>\n  </rdf:RDF>\n </metadata>\n <defs>\n  <style type=\"text/css\">*{stroke-linejoin: round; stroke-linecap: butt}</style>\n </defs>\n <g id=\"figure_1\">\n  <g id=\"patch_1\">\n   <path d=\"M 0 281.06 \nL 328.9785 281.06 \nL 328.9785 0 \nL 0 0 \nL 0 281.06 \nz\n\" style=\"fill: none\"/>\n  </g>\n  <g id=\"axes_1\">\n   <g id=\"patch_2\">\n    <path d=\"M 20.5625 205.56 \nL 301.3625 205.56 \nL 301.3625 24.12 \nL 20.5625 24.12 \nz\n\" style=\"fill: #ffffff\"/>\n   </g>\n   <g id=\"matplotlib.axis_1\">\n    <g id=\"xtick_1\">\n     <g id=\"line2d_1\">\n      <defs>\n       <path id=\"me46aaddcd1\" d=\"M 0 0 \nL 0 3.5 \n\" style=\"stroke: #000000; stroke-width: 0.8\"/>\n      </defs>\n      <g>\n       <use xlink:href=\"#me46aaddcd1\" x=\"20.5625\" y=\"205.56\" style=\"stroke: #000000; stroke-width: 0.8\"/>\n      </g>\n     </g>\n     <g id=\"text_1\">\n      <!-- 0 -->\n      <g transform=\"translate(17.38125 220.158437)scale(0.1 -0.1)\">\n       <defs>\n        <path id=\"DejaVuSans-30\" d=\"M 2034 4250 \nQ 1547 4250 1301 3770 \nQ 1056 3291 1056 2328 \nQ 1056 1369 1301 889 \nQ 1547 409 2034 409 \nQ 2525 409 2770 889 \nQ 3016 1369 3016 2328 \nQ 3016 3291 2770 3770 \nQ 2525 4250 2034 4250 \nz\nM 2034 4750 \nQ 2819 4750 3233 4129 \nQ 3647 3509 3647 2328 \nQ 3647 1150 3233 529 \nQ 2819 -91 2034 -91 \nQ 1250 -91 836 529 \nQ 422 1150 422 2328 \nQ 422 3509 836 4129 \nQ 1250 4750 2034 4750 \nz\n\" transform=\"scale(0.015625)\"/>\n       </defs>\n       <use xlink:href=\"#DejaVuSans-30\"/>\n      </g>\n     </g>\n    </g>\n    <g id=\"xtick_2\">\n     <g id=\"line2d_2\">\n      <g>\n       <use xlink:href=\"#me46aaddcd1\" x=\"76.7225\" y=\"205.56\" style=\"stroke: #000000; stroke-width: 0.8\"/>\n      </g>\n     </g>\n     <g id=\"text_2\">\n      <!-- 1 -->\n      <g transform=\"translate(73.54125 220.158437)scale(0.1 -0.1)\">\n       <defs>\n        <path id=\"DejaVuSans-31\" d=\"M 794 531 \nL 1825 531 \nL 1825 4091 \nL 703 3866 \nL 703 4441 \nL 1819 4666 \nL 2450 4666 \nL 2450 531 \nL 3481 531 \nL 3481 0 \nL 794 0 \nL 794 531 \nz\n\" transform=\"scale(0.015625)\"/>\n       </defs>\n       <use xlink:href=\"#DejaVuSans-31\"/>\n      </g>\n     </g>\n    </g>\n    <g id=\"xtick_3\">\n     <g id=\"line2d_3\">\n      <g>\n       <use xlink:href=\"#me46aaddcd1\" x=\"132.8825\" y=\"205.56\" style=\"stroke: #000000; stroke-width: 0.8\"/>\n      </g>\n     </g>\n     <g id=\"text_3\">\n      <!-- 2 -->\n      <g transform=\"translate(129.70125 220.158437)scale(0.1 -0.1)\">\n       <defs>\n        <path id=\"DejaVuSans-32\" d=\"M 1228 531 \nL 3431 531 \nL 3431 0 \nL 469 0 \nL 469 531 \nQ 828 903 1448 1529 \nQ 2069 2156 2228 2338 \nQ 2531 2678 2651 2914 \nQ 2772 3150 2772 3378 \nQ 2772 3750 2511 3984 \nQ 2250 4219 1831 4219 \nQ 1534 4219 1204 4116 \nQ 875 4013 500 3803 \nL 500 4441 \nQ 881 4594 1212 4672 \nQ 1544 4750 1819 4750 \nQ 2544 4750 2975 4387 \nQ 3406 4025 3406 3419 \nQ 3406 3131 3298 2873 \nQ 3191 2616 2906 2266 \nQ 2828 2175 2409 1742 \nQ 1991 1309 1228 531 \nz\n\" transform=\"scale(0.015625)\"/>\n       </defs>\n       <use xlink:href=\"#DejaVuSans-32\"/>\n      </g>\n     </g>\n    </g>\n    <g id=\"xtick_4\">\n     <g id=\"line2d_4\">\n      <g>\n       <use xlink:href=\"#me46aaddcd1\" x=\"189.0425\" y=\"205.56\" style=\"stroke: #000000; stroke-width: 0.8\"/>\n      </g>\n     </g>\n     <g id=\"text_4\">\n      <!-- 3 -->\n      <g transform=\"translate(185.86125 220.158437)scale(0.1 -0.1)\">\n       <defs>\n        <path id=\"DejaVuSans-33\" d=\"M 2597 2516 \nQ 3050 2419 3304 2112 \nQ 3559 1806 3559 1356 \nQ 3559 666 3084 287 \nQ 2609 -91 1734 -91 \nQ 1441 -91 1130 -33 \nQ 819 25 488 141 \nL 488 750 \nQ 750 597 1062 519 \nQ 1375 441 1716 441 \nQ 2309 441 2620 675 \nQ 2931 909 2931 1356 \nQ 2931 1769 2642 2001 \nQ 2353 2234 1838 2234 \nL 1294 2234 \nL 1294 2753 \nL 1863 2753 \nQ 2328 2753 2575 2939 \nQ 2822 3125 2822 3475 \nQ 2822 3834 2567 4026 \nQ 2313 4219 1838 4219 \nQ 1578 4219 1281 4162 \nQ 984 4106 628 3988 \nL 628 4550 \nQ 988 4650 1302 4700 \nQ 1616 4750 1894 4750 \nQ 2613 4750 3031 4423 \nQ 3450 4097 3450 3541 \nQ 3450 3153 3228 2886 \nQ 3006 2619 2597 2516 \nz\n\" transform=\"scale(0.015625)\"/>\n       </defs>\n       <use xlink:href=\"#DejaVuSans-33\"/>\n      </g>\n     </g>\n    </g>\n    <g id=\"xtick_5\">\n     <g id=\"line2d_5\">\n      <g>\n       <use xlink:href=\"#me46aaddcd1\" x=\"245.2025\" y=\"205.56\" style=\"stroke: #000000; stroke-width: 0.8\"/>\n      </g>\n     </g>\n     <g id=\"text_5\">\n      <!-- 4 -->\n      <g transform=\"translate(242.02125 220.158437)scale(0.1 -0.1)\">\n       <defs>\n        <path id=\"DejaVuSans-34\" d=\"M 2419 4116 \nL 825 1625 \nL 2419 1625 \nL 2419 4116 \nz\nM 2253 4666 \nL 3047 4666 \nL 3047 1625 \nL 3713 1625 \nL 3713 1100 \nL 3047 1100 \nL 3047 0 \nL 2419 0 \nL 2419 1100 \nL 313 1100 \nL 313 1709 \nL 2253 4666 \nz\n\" transform=\"scale(0.015625)\"/>\n       </defs>\n       <use xlink:href=\"#DejaVuSans-34\"/>\n      </g>\n     </g>\n    </g>\n    <g id=\"xtick_6\">\n     <g id=\"line2d_6\">\n      <g>\n       <use xlink:href=\"#me46aaddcd1\" x=\"301.3625\" y=\"205.56\" style=\"stroke: #000000; stroke-width: 0.8\"/>\n      </g>\n     </g>\n     <g id=\"text_6\">\n      <!-- 5 -->\n      <g transform=\"translate(298.18125 220.158437)scale(0.1 -0.1)\">\n       <defs>\n        <path id=\"DejaVuSans-35\" d=\"M 691 4666 \nL 3169 4666 \nL 3169 4134 \nL 1269 4134 \nL 1269 2991 \nQ 1406 3038 1543 3061 \nQ 1681 3084 1819 3084 \nQ 2600 3084 3056 2656 \nQ 3513 2228 3513 1497 \nQ 3513 744 3044 326 \nQ 2575 -91 1722 -91 \nQ 1428 -91 1123 -41 \nQ 819 9 494 109 \nL 494 744 \nQ 775 591 1075 516 \nQ 1375 441 1709 441 \nQ 2250 441 2565 725 \nQ 2881 1009 2881 1497 \nQ 2881 1984 2565 2268 \nQ 2250 2553 1709 2553 \nQ 1456 2553 1204 2497 \nQ 953 2441 691 2322 \nL 691 4666 \nz\n\" transform=\"scale(0.015625)\"/>\n       </defs>\n       <use xlink:href=\"#DejaVuSans-35\"/>\n      </g>\n     </g>\n    </g>\n   </g>\n   <g id=\"matplotlib.axis_2\">\n    <g id=\"ytick_1\">\n     <g id=\"line2d_7\">\n      <defs>\n       <path id=\"md25ea2fef4\" d=\"M 0 0 \nL -3.5 0 \n\" style=\"stroke: #000000; stroke-width: 0.8\"/>\n      </defs>\n      <g>\n       <use xlink:href=\"#md25ea2fef4\" x=\"20.5625\" y=\"205.56\" style=\"stroke: #000000; stroke-width: 0.8\"/>\n      </g>\n     </g>\n     <g id=\"text_7\">\n      <!-- 0 -->\n      <g transform=\"translate(7.2 209.359219)scale(0.1 -0.1)\">\n       <use xlink:href=\"#DejaVuSans-30\"/>\n      </g>\n     </g>\n    </g>\n    <g id=\"ytick_2\">\n     <g id=\"line2d_8\">\n      <g>\n       <use xlink:href=\"#md25ea2fef4\" x=\"20.5625\" y=\"169.272\" style=\"stroke: #000000; stroke-width: 0.8\"/>\n      </g>\n     </g>\n     <g id=\"text_8\">\n      <!-- 1 -->\n      <g transform=\"translate(7.2 173.071219)scale(0.1 -0.1)\">\n       <use xlink:href=\"#DejaVuSans-31\"/>\n      </g>\n     </g>\n    </g>\n    <g id=\"ytick_3\">\n     <g id=\"line2d_9\">\n      <g>\n       <use xlink:href=\"#md25ea2fef4\" x=\"20.5625\" y=\"132.984\" style=\"stroke: #000000; stroke-width: 0.8\"/>\n      </g>\n     </g>\n     <g id=\"text_9\">\n      <!-- 2 -->\n      <g transform=\"translate(7.2 136.783219)scale(0.1 -0.1)\">\n       <use xlink:href=\"#DejaVuSans-32\"/>\n      </g>\n     </g>\n    </g>\n    <g id=\"ytick_4\">\n     <g id=\"line2d_10\">\n      <g>\n       <use xlink:href=\"#md25ea2fef4\" x=\"20.5625\" y=\"96.696\" style=\"stroke: #000000; stroke-width: 0.8\"/>\n      </g>\n     </g>\n     <g id=\"text_10\">\n      <!-- 3 -->\n      <g transform=\"translate(7.2 100.495219)scale(0.1 -0.1)\">\n       <use xlink:href=\"#DejaVuSans-33\"/>\n      </g>\n     </g>\n    </g>\n    <g id=\"ytick_5\">\n     <g id=\"line2d_11\">\n      <g>\n       <use xlink:href=\"#md25ea2fef4\" x=\"20.5625\" y=\"60.408\" style=\"stroke: #000000; stroke-width: 0.8\"/>\n      </g>\n     </g>\n     <g id=\"text_11\">\n      <!-- 4 -->\n      <g transform=\"translate(7.2 64.207219)scale(0.1 -0.1)\">\n       <use xlink:href=\"#DejaVuSans-34\"/>\n      </g>\n     </g>\n    </g>\n    <g id=\"ytick_6\">\n     <g id=\"line2d_12\">\n      <g>\n       <use xlink:href=\"#md25ea2fef4\" x=\"20.5625\" y=\"24.12\" style=\"stroke: #000000; stroke-width: 0.8\"/>\n      </g>\n     </g>\n     <g id=\"text_12\">\n      <!-- 5 -->\n      <g transform=\"translate(7.2 27.919219)scale(0.1 -0.1)\">\n       <use xlink:href=\"#DejaVuSans-35\"/>\n      </g>\n     </g>\n    </g>\n   </g>\n   <g id=\"line2d_13\">\n    <path d=\"M 20.5625 205.56 \nL 25.6169 192.790253 \nL 30.6713 180.608371 \nL 35.7257 169.014355 \nL 40.7801 158.008205 \nL 45.2729 148.718477 \nL 49.7657 139.893235 \nL 54.2585 131.53248 \nL 58.7513 123.636211 \nL 63.2441 116.204429 \nL 67.7369 109.237133 \nL 71.6681 103.521773 \nL 75.5993 98.162035 \nL 79.5305 93.15792 \nL 83.4617 88.509427 \nL 87.3929 84.216557 \nL 91.3241 80.279309 \nL 95.2553 76.697683 \nL 98.6249 73.910765 \nL 101.9945 71.38512 \nL 105.3641 69.120749 \nL 108.7337 67.117651 \nL 112.1033 65.375827 \nL 115.4729 63.895277 \nL 118.8425 62.676 \nL 122.2121 61.717997 \nL 125.5817 61.021267 \nL 128.9513 60.585811 \nL 132.3209 60.411629 \nL 135.6905 60.49872 \nL 139.0601 60.847085 \nL 142.4297 61.456723 \nL 145.7993 62.327635 \nL 149.1689 63.459821 \nL 152.5385 64.85328 \nL 155.9081 66.508013 \nL 159.2777 68.424019 \nL 162.6473 70.601299 \nL 166.0169 73.039853 \nL 169.3865 75.73968 \nL 172.7561 78.700781 \nL 176.1257 81.923155 \nL 180.0569 86.012813 \nL 183.9881 90.458093 \nL 187.9193 95.258995 \nL 191.8505 100.41552 \nL 195.7817 105.927667 \nL 199.7129 111.795437 \nL 204.2057 118.936915 \nL 208.6985 126.54288 \nL 213.1913 134.613331 \nL 217.6841 143.148269 \nL 222.1769 152.147693 \nL 226.6697 161.611603 \nL 231.7241 172.813709 \nL 236.7785 184.60368 \nL 241.8329 196.981517 \nL 246.8873 209.947219 \nL 251.9417 223.500787 \nL 256.9961 237.642221 \nL 262.6121 254.044397 \nL 268.2281 271.172333 \nL 271.679783 282.06 \nL 271.679783 282.06 \n\" clip-path=\"url(#p18a498443d)\" style=\"fill: none; stroke: #ff0000; stroke-width: 2; stroke-linecap: square\"/>\n   </g>\n   <g id=\"patch_3\">\n    <path d=\"M 20.5625 205.56 \nL 20.5625 24.12 \n\" style=\"fill: none; stroke: #000000; stroke-width: 2; stroke-linejoin: miter; stroke-linecap: square\"/>\n   </g>\n   <g id=\"patch_4\">\n    <path d=\"M 20.5625 205.56 \nL 301.3625 205.56 \n\" style=\"fill: none; stroke: #000000; stroke-width: 2; stroke-linejoin: miter; stroke-linecap: square\"/>\n   </g>\n   <g id=\"text_13\">\n    <!-- Parabool: $y=ax^2 + 4x$ -->\n    <g transform=\"translate(94.7825 18.12)scale(0.12 -0.12)\">\n     <defs>\n      <path id=\"DejaVuSans-50\" d=\"M 1259 4147 \nL 1259 2394 \nL 2053 2394 \nQ 2494 2394 2734 2622 \nQ 2975 2850 2975 3272 \nQ 2975 3691 2734 3919 \nQ 2494 4147 2053 4147 \nL 1259 4147 \nz\nM 628 4666 \nL 2053 4666 \nQ 2838 4666 3239 4311 \nQ 3641 3956 3641 3272 \nQ 3641 2581 3239 2228 \nQ 2838 1875 2053 1875 \nL 1259 1875 \nL 1259 0 \nL 628 0 \nL 628 4666 \nz\n\" transform=\"scale(0.015625)\"/>\n      <path id=\"DejaVuSans-61\" d=\"M 2194 1759 \nQ 1497 1759 1228 1600 \nQ 959 1441 959 1056 \nQ 959 750 1161 570 \nQ 1363 391 1709 391 \nQ 2188 391 2477 730 \nQ 2766 1069 2766 1631 \nL 2766 1759 \nL 2194 1759 \nz\nM 3341 1997 \nL 3341 0 \nL 2766 0 \nL 2766 531 \nQ 2569 213 2275 61 \nQ 1981 -91 1556 -91 \nQ 1019 -91 701 211 \nQ 384 513 384 1019 \nQ 384 1609 779 1909 \nQ 1175 2209 1959 2209 \nL 2766 2209 \nL 2766 2266 \nQ 2766 2663 2505 2880 \nQ 2244 3097 1772 3097 \nQ 1472 3097 1187 3025 \nQ 903 2953 641 2809 \nL 641 3341 \nQ 956 3463 1253 3523 \nQ 1550 3584 1831 3584 \nQ 2591 3584 2966 3190 \nQ 3341 2797 3341 1997 \nz\n\" transform=\"scale(0.015625)\"/>\n      <path id=\"DejaVuSans-72\" d=\"M 2631 2963 \nQ 2534 3019 2420 3045 \nQ 2306 3072 2169 3072 \nQ 1681 3072 1420 2755 \nQ 1159 2438 1159 1844 \nL 1159 0 \nL 581 0 \nL 581 3500 \nL 1159 3500 \nL 1159 2956 \nQ 1341 3275 1631 3429 \nQ 1922 3584 2338 3584 \nQ 2397 3584 2469 3576 \nQ 2541 3569 2628 3553 \nL 2631 2963 \nz\n\" transform=\"scale(0.015625)\"/>\n      <path id=\"DejaVuSans-62\" d=\"M 3116 1747 \nQ 3116 2381 2855 2742 \nQ 2594 3103 2138 3103 \nQ 1681 3103 1420 2742 \nQ 1159 2381 1159 1747 \nQ 1159 1113 1420 752 \nQ 1681 391 2138 391 \nQ 2594 391 2855 752 \nQ 3116 1113 3116 1747 \nz\nM 1159 2969 \nQ 1341 3281 1617 3432 \nQ 1894 3584 2278 3584 \nQ 2916 3584 3314 3078 \nQ 3713 2572 3713 1747 \nQ 3713 922 3314 415 \nQ 2916 -91 2278 -91 \nQ 1894 -91 1617 61 \nQ 1341 213 1159 525 \nL 1159 0 \nL 581 0 \nL 581 4863 \nL 1159 4863 \nL 1159 2969 \nz\n\" transform=\"scale(0.015625)\"/>\n      <path id=\"DejaVuSans-6f\" d=\"M 1959 3097 \nQ 1497 3097 1228 2736 \nQ 959 2375 959 1747 \nQ 959 1119 1226 758 \nQ 1494 397 1959 397 \nQ 2419 397 2687 759 \nQ 2956 1122 2956 1747 \nQ 2956 2369 2687 2733 \nQ 2419 3097 1959 3097 \nz\nM 1959 3584 \nQ 2709 3584 3137 3096 \nQ 3566 2609 3566 1747 \nQ 3566 888 3137 398 \nQ 2709 -91 1959 -91 \nQ 1206 -91 779 398 \nQ 353 888 353 1747 \nQ 353 2609 779 3096 \nQ 1206 3584 1959 3584 \nz\n\" transform=\"scale(0.015625)\"/>\n      <path id=\"DejaVuSans-6c\" d=\"M 603 4863 \nL 1178 4863 \nL 1178 0 \nL 603 0 \nL 603 4863 \nz\n\" transform=\"scale(0.015625)\"/>\n      <path id=\"DejaVuSans-3a\" d=\"M 750 794 \nL 1409 794 \nL 1409 0 \nL 750 0 \nL 750 794 \nz\nM 750 3309 \nL 1409 3309 \nL 1409 2516 \nL 750 2516 \nL 750 3309 \nz\n\" transform=\"scale(0.015625)\"/>\n      <path id=\"DejaVuSans-20\" transform=\"scale(0.015625)\"/>\n      <path id=\"DejaVuSans-Oblique-79\" d=\"M 1588 -325 \nQ 1188 -997 936 -1164 \nQ 684 -1331 294 -1331 \nL -159 -1331 \nL -63 -850 \nL 269 -850 \nQ 509 -850 678 -719 \nQ 847 -588 1056 -206 \nL 1234 128 \nL 459 3500 \nL 1069 3500 \nL 1650 819 \nL 3256 3500 \nL 3859 3500 \nL 1588 -325 \nz\n\" transform=\"scale(0.015625)\"/>\n      <path id=\"DejaVuSans-3d\" d=\"M 678 2906 \nL 4684 2906 \nL 4684 2381 \nL 678 2381 \nL 678 2906 \nz\nM 678 1631 \nL 4684 1631 \nL 4684 1100 \nL 678 1100 \nL 678 1631 \nz\n\" transform=\"scale(0.015625)\"/>\n      <path id=\"DejaVuSans-Oblique-61\" d=\"M 3438 1997 \nL 3047 0 \nL 2472 0 \nL 2578 531 \nQ 2325 219 2001 64 \nQ 1678 -91 1281 -91 \nQ 834 -91 548 182 \nQ 263 456 263 884 \nQ 263 1497 752 1853 \nQ 1241 2209 2100 2209 \nL 2900 2209 \nL 2931 2363 \nQ 2938 2388 2941 2417 \nQ 2944 2447 2944 2509 \nQ 2944 2788 2717 2942 \nQ 2491 3097 2081 3097 \nQ 1800 3097 1504 3025 \nQ 1209 2953 897 2809 \nL 997 3341 \nQ 1322 3463 1633 3523 \nQ 1944 3584 2234 3584 \nQ 2853 3584 3176 3315 \nQ 3500 3047 3500 2534 \nQ 3500 2431 3484 2292 \nQ 3469 2153 3438 1997 \nz\nM 2816 1759 \nL 2241 1759 \nQ 1534 1759 1195 1570 \nQ 856 1381 856 984 \nQ 856 709 1029 553 \nQ 1203 397 1509 397 \nQ 1978 397 2328 733 \nQ 2678 1069 2791 1631 \nL 2816 1759 \nz\n\" transform=\"scale(0.015625)\"/>\n      <path id=\"DejaVuSans-Oblique-78\" d=\"M 3841 3500 \nL 2234 1784 \nL 3219 0 \nL 2559 0 \nL 1819 1388 \nL 531 0 \nL -166 0 \nL 1556 1844 \nL 641 3500 \nL 1300 3500 \nL 1972 2234 \nL 3144 3500 \nL 3841 3500 \nz\n\" transform=\"scale(0.015625)\"/>\n      <path id=\"DejaVuSans-2b\" d=\"M 2944 4013 \nL 2944 2272 \nL 4684 2272 \nL 4684 1741 \nL 2944 1741 \nL 2944 0 \nL 2419 0 \nL 2419 1741 \nL 678 1741 \nL 678 2272 \nL 2419 2272 \nL 2419 4013 \nL 2944 4013 \nz\n\" transform=\"scale(0.015625)\"/>\n     </defs>\n     <use xlink:href=\"#DejaVuSans-50\" transform=\"translate(0 0.765625)\"/>\n     <use xlink:href=\"#DejaVuSans-61\" transform=\"translate(60.302734 0.765625)\"/>\n     <use xlink:href=\"#DejaVuSans-72\" transform=\"translate(121.582031 0.765625)\"/>\n     <use xlink:href=\"#DejaVuSans-61\" transform=\"translate(162.695312 0.765625)\"/>\n     <use xlink:href=\"#DejaVuSans-62\" transform=\"translate(223.974609 0.765625)\"/>\n     <use xlink:href=\"#DejaVuSans-6f\" transform=\"translate(287.451172 0.765625)\"/>\n     <use xlink:href=\"#DejaVuSans-6f\" transform=\"translate(348.632812 0.765625)\"/>\n     <use xlink:href=\"#DejaVuSans-6c\" transform=\"translate(409.814453 0.765625)\"/>\n     <use xlink:href=\"#DejaVuSans-3a\" transform=\"translate(437.597656 0.765625)\"/>\n     <use xlink:href=\"#DejaVuSans-20\" transform=\"translate(471.289062 0.765625)\"/>\n     <use xlink:href=\"#DejaVuSans-Oblique-79\" transform=\"translate(503.076172 0.765625)\"/>\n     <use xlink:href=\"#DejaVuSans-3d\" transform=\"translate(581.738281 0.765625)\"/>\n     <use xlink:href=\"#DejaVuSans-Oblique-61\" transform=\"translate(685.009766 0.765625)\"/>\n     <use xlink:href=\"#DejaVuSans-Oblique-78\" transform=\"translate(746.289062 0.765625)\"/>\n     <use xlink:href=\"#DejaVuSans-32\" transform=\"translate(809.934896 39.046875)scale(0.7)\"/>\n     <use xlink:href=\"#DejaVuSans-2b\" transform=\"translate(876.687826 0.765625)\"/>\n     <use xlink:href=\"#DejaVuSans-34\" transform=\"translate(979.95931 0.765625)\"/>\n     <use xlink:href=\"#DejaVuSans-Oblique-78\" transform=\"translate(1043.582357 0.765625)\"/>\n    </g>\n   </g>\n  </g>\n  <g id=\"axes_2\">\n   <g id=\"patch_5\">\n    <path d=\"M 20.5625 246.6 \nL 301.3625 246.6 \nL 301.3625 242.28 \nL 20.5625 242.28 \nz\n\" clip-path=\"url(#pf9fb0a1b0f)\" style=\"fill: #d3d3d3\"/>\n   </g>\n   <g id=\"patch_6\">\n    <path d=\"M 20.5625 246.6 \nL 20.5625 242.28 \nL 160.9625 242.28 \nL 160.9625 246.6 \nz\n\" clip-path=\"url(#pf9fb0a1b0f)\" style=\"fill: #1f77b4\"/>\n   </g>\n   <g id=\"line2d_14\">\n    <path d=\"M 160.9625 248.76 \nL 160.9625 240.12 \n\" clip-path=\"url(#p89ad628d9c)\" style=\"fill: none; stroke: #ff0000; stroke-linecap: square\"/>\n   </g>\n   <g id=\"line2d_15\">\n    <defs>\n     <path id=\"m9c95918711\" d=\"M 0 5 \nC 1.326016 5 2.597899 4.473168 3.535534 3.535534 \nC 4.473168 2.597899 5 1.326016 5 0 \nC 5 -1.326016 4.473168 -2.597899 3.535534 -3.535534 \nC 2.597899 -4.473168 1.326016 -5 0 -5 \nC -1.326016 -5 -2.597899 -4.473168 -3.535534 -3.535534 \nC -4.473168 -2.597899 -5 -1.326016 -5 0 \nC -5 1.326016 -4.473168 2.597899 -3.535534 3.535534 \nC -2.597899 4.473168 -1.326016 5 0 5 \nz\n\" style=\"stroke: #bfbfbf\"/>\n    </defs>\n    <g>\n     <use xlink:href=\"#m9c95918711\" x=\"160.9625\" y=\"244.44\" style=\"fill: #ffffff; stroke: #bfbfbf\"/>\n    </g>\n   </g>\n   <g id=\"text_14\">\n    <!-- a -->\n    <g transform=\"translate(8.818375 247.199375)scale(0.1 -0.1)\">\n     <use xlink:href=\"#DejaVuSans-61\"/>\n    </g>\n   </g>\n   <g id=\"text_15\">\n    <!-- $\\mathdefault{−1}$ -->\n    <g transform=\"translate(306.9785 247.199375)scale(0.1 -0.1)\">\n     <defs>\n      <path id=\"DejaVuSans-2212\" d=\"M 678 2272 \nL 4684 2272 \nL 4684 1741 \nL 678 1741 \nL 678 2272 \nz\n\" transform=\"scale(0.015625)\"/>\n     </defs>\n     <use xlink:href=\"#DejaVuSans-2212\" transform=\"translate(0 0.09375)\"/>\n     <use xlink:href=\"#DejaVuSans-31\" transform=\"translate(83.789062 0.09375)\"/>\n    </g>\n   </g>\n  </g>\n  <g id=\"axes_3\">\n   <g id=\"patch_7\">\n    <path d=\"M 258.1625 270.36 \nL 301.3625 270.36 \nL 301.3625 258.84 \nL 258.1625 258.84 \nz\n\" style=\"fill: #ffffff\"/>\n   </g>\n   <g id=\"matplotlib.axis_3\"/>\n   <g id=\"matplotlib.axis_4\"/>\n   <g id=\"patch_8\">\n    <path d=\"M 258.1625 270.36 \nL 258.1625 258.84 \n\" style=\"fill: none; stroke: #000000; stroke-width: 0.8; stroke-linejoin: miter; stroke-linecap: square\"/>\n   </g>\n   <g id=\"patch_9\">\n    <path d=\"M 301.3625 270.36 \nL 301.3625 258.84 \n\" style=\"fill: none; stroke: #000000; stroke-width: 0.8; stroke-linejoin: miter; stroke-linecap: square\"/>\n   </g>\n   <g id=\"patch_10\">\n    <path d=\"M 258.1625 270.36 \nL 301.3625 270.36 \n\" style=\"fill: none; stroke: #000000; stroke-width: 0.8; stroke-linejoin: miter; stroke-linecap: square\"/>\n   </g>\n   <g id=\"patch_11\">\n    <path d=\"M 258.1625 258.84 \nL 301.3625 258.84 \n\" style=\"fill: none; stroke: #000000; stroke-width: 0.8; stroke-linejoin: miter; stroke-linecap: square\"/>\n   </g>\n   <g id=\"text_16\">\n    <!-- Reset -->\n    <g transform=\"translate(265.795313 267.359375)scale(0.1 -0.1)\">\n     <defs>\n      <path id=\"DejaVuSans-52\" d=\"M 2841 2188 \nQ 3044 2119 3236 1894 \nQ 3428 1669 3622 1275 \nL 4263 0 \nL 3584 0 \nL 2988 1197 \nQ 2756 1666 2539 1819 \nQ 2322 1972 1947 1972 \nL 1259 1972 \nL 1259 0 \nL 628 0 \nL 628 4666 \nL 2053 4666 \nQ 2853 4666 3247 4331 \nQ 3641 3997 3641 3322 \nQ 3641 2881 3436 2590 \nQ 3231 2300 2841 2188 \nz\nM 1259 4147 \nL 1259 2491 \nL 2053 2491 \nQ 2509 2491 2742 2702 \nQ 2975 2913 2975 3322 \nQ 2975 3731 2742 3939 \nQ 2509 4147 2053 4147 \nL 1259 4147 \nz\n\" transform=\"scale(0.015625)\"/>\n      <path id=\"DejaVuSans-65\" d=\"M 3597 1894 \nL 3597 1613 \nL 953 1613 \nQ 991 1019 1311 708 \nQ 1631 397 2203 397 \nQ 2534 397 2845 478 \nQ 3156 559 3463 722 \nL 3463 178 \nQ 3153 47 2828 -22 \nQ 2503 -91 2169 -91 \nQ 1331 -91 842 396 \nQ 353 884 353 1716 \nQ 353 2575 817 3079 \nQ 1281 3584 2069 3584 \nQ 2775 3584 3186 3129 \nQ 3597 2675 3597 1894 \nz\nM 3022 2063 \nQ 3016 2534 2758 2815 \nQ 2500 3097 2075 3097 \nQ 1594 3097 1305 2825 \nQ 1016 2553 972 2059 \nL 3022 2063 \nz\n\" transform=\"scale(0.015625)\"/>\n      <path id=\"DejaVuSans-73\" d=\"M 2834 3397 \nL 2834 2853 \nQ 2591 2978 2328 3040 \nQ 2066 3103 1784 3103 \nQ 1356 3103 1142 2972 \nQ 928 2841 928 2578 \nQ 928 2378 1081 2264 \nQ 1234 2150 1697 2047 \nL 1894 2003 \nQ 2506 1872 2764 1633 \nQ 3022 1394 3022 966 \nQ 3022 478 2636 193 \nQ 2250 -91 1575 -91 \nQ 1294 -91 989 -36 \nQ 684 19 347 128 \nL 347 722 \nQ 666 556 975 473 \nQ 1284 391 1588 391 \nQ 1994 391 2212 530 \nQ 2431 669 2431 922 \nQ 2431 1156 2273 1281 \nQ 2116 1406 1581 1522 \nL 1381 1569 \nQ 847 1681 609 1914 \nQ 372 2147 372 2553 \nQ 372 3047 722 3315 \nQ 1072 3584 1716 3584 \nQ 2034 3584 2315 3537 \nQ 2597 3491 2834 3397 \nz\n\" transform=\"scale(0.015625)\"/>\n      <path id=\"DejaVuSans-74\" d=\"M 1172 4494 \nL 1172 3500 \nL 2356 3500 \nL 2356 3053 \nL 1172 3053 \nL 1172 1153 \nQ 1172 725 1289 603 \nQ 1406 481 1766 481 \nL 2356 481 \nL 2356 0 \nL 1766 0 \nQ 1100 0 847 248 \nQ 594 497 594 1153 \nL 594 3053 \nL 172 3053 \nL 172 3500 \nL 594 3500 \nL 594 4494 \nL 1172 4494 \nz\n\" transform=\"scale(0.015625)\"/>\n     </defs>\n     <use xlink:href=\"#DejaVuSans-52\"/>\n     <use xlink:href=\"#DejaVuSans-65\" x=\"64.982422\"/>\n     <use xlink:href=\"#DejaVuSans-73\" x=\"126.505859\"/>\n     <use xlink:href=\"#DejaVuSans-65\" x=\"178.605469\"/>\n     <use xlink:href=\"#DejaVuSans-74\" x=\"240.128906\"/>\n    </g>\n   </g>\n  </g>\n </g>\n <defs>\n  <clipPath id=\"p18a498443d\">\n   <rect x=\"20.5625\" y=\"24.12\" width=\"280.8\" height=\"181.44\"/>\n  </clipPath>\n  <clipPath id=\"pf9fb0a1b0f\">\n   <rect x=\"20.5625\" y=\"240.12\" width=\"280.8\" height=\"8.64\"/>\n  </clipPath>\n  <clipPath id=\"p89ad628d9c\">\n   <path d=\"M 20.5625 246.6 \nL 301.3625 246.6 \nL 301.3625 242.28 \nL 20.5625 242.28 \nz\n\"/>\n  </clipPath>\n </defs>\n</svg>\n",
      "text/plain": [
       "<Figure size 432x288 with 3 Axes>"
      ]
     },
     "metadata": {
      "needs_background": "light"
     },
     "output_type": "display_data"
    }
   ],
   "source": [
    "%matplotlib inline\n",
    "\n",
    "import numpy as np\n",
    "import matplotlib.pyplot as plt\n",
    "from matplotlib.widgets import Slider, Button, RadioButtons, RangeSlider\n",
    "\n",
    "plt.close('all')\n",
    "\n",
    "fig, ax3 = plt.subplots()\n",
    "plt.subplots_adjust(left=0.25, bottom=0.25)\n",
    "ax3.set_xlim([0, 5])\n",
    "ax3.set_ylim([0, 5])\n",
    "ax3.grid(False)\n",
    "ax3.spines['right'].set_visible(False)\n",
    "ax3.spines['top'].set_visible(False)\n",
    "for axis in ['top','bottom','left','right']:\n",
    "  ax3.spines[axis].set_linewidth(2)\n",
    "ax3.set_title('Parabool: $y=ax^2 + 4x$')\n",
    "\n",
    "x = np.arange(0.0, 10, 0.01)\n",
    "\n",
    "a0 = -1\n",
    "delta_a = 0.5\n",
    "y = a0*x**2 + 4*x\n",
    "l, = plt.plot(x, y, c='red', lw=2)\n",
    "ax3.margins(x=0)\n",
    "\n",
    "axcolor = 'white'\n",
    "axa = plt.axes([0.25, 0.1, 0.65, 0.03], facecolor=axcolor)\n",
    "\n",
    "sa = Slider(axa, 'a', -4, 2, valinit=a0, valstep=delta_a)\n",
    "\n",
    "def update(val):\n",
    "    a = sa.val\n",
    "    l.set_ydata(a*x**2 + 4*x)\n",
    "    fig.canvas.draw_idle()\n",
    "\n",
    "sa.on_changed(update)\n",
    "\n",
    "resetax = plt.axes([0.8, 0.025, 0.1, 0.04])\n",
    "button = Button(resetax, 'Reset', color=axcolor, hovercolor='0.975')\n",
    "\n",
    "def reset(event):\n",
    "    sa.reset()\n",
    "button.on_clicked(reset)\n",
    "\n",
    "plt.show()"
   ]
  }
 ],
 "metadata": {
  "kernelspec": {
   "display_name": "Python 3.9.10 ('cantera_env')",
   "language": "python",
   "name": "python3"
  },
  "language_info": {
   "codemirror_mode": {
    "name": "ipython",
    "version": 3
   },
   "file_extension": ".py",
   "mimetype": "text/x-python",
   "name": "python",
   "nbconvert_exporter": "python",
   "pygments_lexer": "ipython3",
   "version": "3.9.10"
  },
  "vscode": {
   "interpreter": {
    "hash": "29a67ab84c9c45ed466f7a74a60de046ec752eb39b7884c51b2f930c4bf06094"
   }
  },
  "widgets": {
   "application/vnd.jupyter.widget-state+json": {
    "state": {},
    "version_major": 2,
    "version_minor": 0
   }
  }
 },
 "nbformat": 4,
 "nbformat_minor": 4
}
