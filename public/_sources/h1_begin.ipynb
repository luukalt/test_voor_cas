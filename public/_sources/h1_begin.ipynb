{
 "cells": [
  {
   "cell_type": "markdown",
   "metadata": {},
   "source": [
    "# Beginopdracht: Waaiers parabolen\n",
    "\n",
    "Bij het spuiten met een tuinslang, bij fonteinen en bij het blussen van een\n",
    "brand door de brandweer zie je waterstralen. Hoe hoog en hoe ver die\n",
    "komen hangt af van de druk van het water en onder welke hoek het water\n",
    "de spuitmond verlaat. <br>\n",
    "\n",
    "Als we aannemen dat de waterstraal de paraboolvorm\n",
    "heeft, dan kunnen we bijvoorbeeld berekenen waar de toppen van de\n",
    "parabolen liggen als de hoek hetzelfde blijft en we de druk variëren.\n",
    "Bij de volgende vragen ga je onderzoeken waar de\n",
    "toppen van de bergparabolen liggen die onder dezelfde\n",
    "hoek door de oorsprong gaan. In de figuur hiernaast zie\n",
    "je enkele van deze parabolen. <br>\n",
    "    \n",
    "De algemene formule van de parabolen die onder een\n",
    "hoek van ongeveer 76° door de oorsprong gaan is $y = ax^2 + 4x$.\n",
    "\n",
    "* Neem $a = −1$. Teken de parabool en geef de coördinaten van de top.\n",
    "* Doe hetzelfde voor $a = −2$ en $a = \\frac{1}{2}$.\n",
    "* Op welke grafiek liggen de toppen van de parabolen die je nu hebt getekend? Controleer of dit ook geldt voor een andere parabool vande vorm $y = ax^2 + 4x$.\n",
    "\n",
    "De parabolen van de vorm $y = ax^2 + 6x$ gaan allemaal onder een hoek\n",
    "van ongeveer 81° door de oorsprong.\n",
    "\n",
    "* Onderzoek op welke grafiek de toppen van deze parabolen liggen\n",
    "* Op welke grafiek liggen de toppen van de parabolen van de vorm $y = ax^2 − 3x$ denk je? Controleer je antwoord door voor a enkele waarden te nemen.\n",
    "\n",
    "Elke parabool van de vorm $y = −x^2 + bx$ gaat door de oorsprong, waarbij de hoek waaronder de parabool door de oorsprong gaat afhangt van b.\n",
    "* Onderzoek of je ook iets kunt zeggen van de toppen van de parabolen $y = −x^2 + bx$ en stel zo mogelijk de formule op van de grafiek waarop de toppen liggen.\n",
    "* Doe hetzelfde voor de toppen van de parabolen $y = -\\frac{1}{2} x^2 + bx$.\n"
   ]
  },
  {
   "cell_type": "code",
   "execution_count": 1,
   "metadata": {
    "tags": [
     "hide-input"
    ]
   },
   "outputs": [
    {
     "data": {
      "application/vnd.jupyter.widget-view+json": {
       "model_id": "c544968dd4cc4996a2e3ae5d669eb7ab",
       "version_major": 2,
       "version_minor": 0
      },
      "text/plain": [
       "Canvas(toolbar=Toolbar(toolitems=[('Home', 'Reset original view', 'home', 'home'), ('Back', 'Back to previous …"
      ]
     },
     "metadata": {},
     "output_type": "display_data"
    }
   ],
   "source": [
    "%matplotlib widget\n",
    "import numpy as np\n",
    "import matplotlib.pyplot as plt\n",
    "from matplotlib.widgets import Slider, Button, RadioButtons, RangeSlider\n",
    "\n",
    "plt.close('all')\n",
    "\n",
    "fig, ax3 = plt.subplots()\n",
    "plt.subplots_adjust(left=0.25, bottom=0.25)\n",
    "ax3.set_xlim([0, 5])\n",
    "ax3.set_ylim([0, 5])\n",
    "ax3.grid(False)\n",
    "ax3.spines['right'].set_visible(False)\n",
    "ax3.spines['top'].set_visible(False)\n",
    "for axis in ['top','bottom','left','right']:\n",
    "  ax3.spines[axis].set_linewidth(2)\n",
    "ax3.set_title('Parabool: $y=ax^2 + 4x$')\n",
    "\n",
    "x = np.arange(0.0, 10, 0.01)\n",
    "\n",
    "a0 = -1\n",
    "delta_a = 0.5\n",
    "y = a0*x**2 + 4*x\n",
    "l, = plt.plot(x, y, c='red', lw=2)\n",
    "ax3.margins(x=0)\n",
    "\n",
    "axcolor = 'white'\n",
    "axa = plt.axes([0.25, 0.1, 0.65, 0.03], facecolor=axcolor)\n",
    "\n",
    "sa = Slider(axa, 'a', -4, 2, valinit=a0, valstep=delta_a)\n",
    "\n",
    "def update(val):\n",
    "    a = sa.val\n",
    "    l.set_ydata(a*x**2 + 4*x)\n",
    "    fig.canvas.draw_idle()\n",
    "\n",
    "sa.on_changed(update)\n",
    "\n",
    "resetax = plt.axes([0.8, 0.025, 0.1, 0.04])\n",
    "button = Button(resetax, 'Reset', color=axcolor, hovercolor='0.975')\n",
    "\n",
    "def reset(event):\n",
    "    sa.reset()\n",
    "button.on_clicked(reset)\n",
    "\n",
    "plt.show()"
   ]
  },
  {
   "cell_type": "code",
   "execution_count": null,
   "metadata": {},
   "outputs": [],
   "source": []
  }
 ],
 "metadata": {
  "kernelspec": {
   "display_name": "Python 3 (ipykernel)",
   "language": "python",
   "name": "python3"
  },
  "language_info": {
   "codemirror_mode": {
    "name": "ipython",
    "version": 3
   },
   "file_extension": ".py",
   "mimetype": "text/x-python",
   "name": "python",
   "nbconvert_exporter": "python",
   "pygments_lexer": "ipython3",
   "version": "3.9.6"
  },
  "widgets": {
   "application/vnd.jupyter.widget-state+json": {
    "state": {},
    "version_major": 2,
    "version_minor": 0
   }
  }
 },
 "nbformat": 4,
 "nbformat_minor": 4
}
